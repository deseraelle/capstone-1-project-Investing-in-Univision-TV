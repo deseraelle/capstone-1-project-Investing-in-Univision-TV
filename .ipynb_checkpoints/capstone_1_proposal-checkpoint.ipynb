{
 "cells": [
  {
   "cell_type": "markdown",
   "metadata": {},
   "source": [
    "# Capstone 1 proposal : Investing with Univision TV\n",
    "## Dævyd Hjelmstad"
   ]
  },
  {
   "cell_type": "markdown",
   "metadata": {},
   "source": [
    "data set may be found at https://drive.google.com/file/d/1WG0Ug8SUzSjjSOYemZLrI0_9-SmifUOf/view?usp=sharing"
   ]
  },
  {
   "cell_type": "markdown",
   "metadata": {},
   "source": [
    "Scenario:\n",
    "\n",
    "\"Hello. My name is Lisa and I am a sales representative for Univision TV in Univision City. There is a new chain of sit down restaurants opening in multiple areas of Univision City. The name of the restaurant chain is Chaz’s in which they prepare multiple Italian and Mexican entrees. I was able to get a meeting with the owner to discuss their opportunity in investing into the Hispanic community. I need a presentation **showing the strengths of Hispanics in Univision City with sit down restaurants**, and **how profitable an investment in Univision TV could be** for this client. Thank you, Lisa.”\n",
    "\n",
    "Research Question: \n",
    "“Do sales increase after investing in Univision? If so, what increase can the investor expect to see?”"
   ]
  },
  {
   "cell_type": "markdown",
   "metadata": {},
   "source": [
    "Analysis plan: I will be investigating the provided dataset to determine whether or not running an advertisement on Univision TV for a mexican / italian themed restaurant produces more business for the restaurant. I will be exploring the sum of all mexican & italian restaurants vs. the total data set, as well as exploring individual restaurants which are similar to 'Chaz's', which will provide a good baseline for comparison to how 'Chaz's' itself will do in this scenario. "
   ]
  },
  {
   "cell_type": "markdown",
   "metadata": {},
   "source": [
    "While I will of course be utilizing rigorous statistical analysis and confidence intervals to produce meaningful, realistic results, I will be gearing my analysis towards the intended audience, that being potential investors for a technology company. So, I will choose the strongest examples of existing mexican and italian restaurants when doing the individual analysis. I will also be investigating whether or not advertising with Univision is stronger for mexican & italian restaurants, and investigating what percentage of customers at mexican & italian restaurants in Univision City are hispanic. "
   ]
  },
  {
   "cell_type": "markdown",
   "metadata": {},
   "source": [
    "The analysis will consist of the following steps :\n",
    "* classify mexican & italian restaurants\n",
    "* compare to whole data set\n",
    "* calculate similarity metric \n",
    "    * (maybe based on number of mexican and italian dishes on menu)\n",
    "    * use top result from sorting on similarity metric as the individual case study \n",
    "    \n",
    "* stats\n",
    "    * t-test: \n",
    "        * null hypothesis 1 - there is no discernable difference between the strength of the Hispanic community as consumers at sit-down restaurants, compared with the population of non-Hispanic people. \n",
    "        * alternative hypothesis 1 - the Hispanic community is a stronger consumer base at sit-down restaurants in Univision City. \n",
    "        * null hypothesis 2 - investing in Univision TV produces no net profit for a Mexican/Italian restaurant such as Chaz's. \n",
    "        * alternative hypothesis 2 - investing in Univision TV produces a higher profit for a Mexican/Italian restaurant like Chaz's\n",
    "    \n",
    "    * compare hispanic population to non-hispanic population, as far as how strong of a consumer base they are in sit-down restaurants in Univision City. \n",
    "        * general at all restaurants (sum / mean / t-test compare hispanic vs non-hispanic)\n",
    "        * Mexican / Italian / Both restaurants (sum / mean / t-test compare hispanic vs non-hispanic)\n",
    "        * create a 'similarity metric' for how similar existing restaurants are to Chaz's (will most likely just be a simple look at if any are both Mexican and Italian dishes on the menu, can go as complex as counting up the number of each types of dishes on everybody's menu & etc. \n",
    "    * comparing italian+mexican with the rest, just italian with the rest, etc.\n",
    "        * t-test \n",
    "    * Index to Total Market\n",
    "           * Index to Total Market = ( percent of specific group / percent of total group ) * 100\n",
    "           * measure of popularity within some sub-group, essentially.\n",
    "           * will help with 1st hypothesis, determining the strength of sub-groups at sit down restaurants in Univision City. \n",
    "    "
   ]
  },
  {
   "cell_type": "markdown",
   "metadata": {},
   "source": [
    "Reference materials :\n",
    "\n",
    "Assumptions of the t-test\n",
    "First, you need to confirm that your data meets the requirements of the t-test. Again, \"terms and conditions apply\" is something that you can rely on in inferential statistics. Your data must meet the following assumptions:\n",
    "\n",
    "* The test variable, which is the variable that you are comparing averages for, is continuous.\n",
    "* There is no relationship between items. In other words, the measurement of one observation does not affect the measurement of another.\n",
    "* The sample is drawn at random from the population. In the next checkpoint, you will get into how to randomly sample; for now, just assume that the sample has been drawn at random.\n",
    "* The test variable's samples and population are approximately normally distributed. This is the assumption of primary interest for this checkpoint.\n",
    "* The sample is reasonably large enough to be representative of the population. Traditionally, a sample size of 30 was regarded as the bare minimum to establish a reflective sample; however, 60 could be used as a safer threshold.\n",
    "* Variances are approximately equal in both the sample and population. Again, although you don't know the variance of the population, the variances should be pretty similar if the sample is indeed reflective of the population. * * There are ways to formally test this assumption, but here you will focus on meeting the fourth assumption—that the samples and population are approximately normally distributed."
   ]
  },
  {
   "cell_type": "code",
   "execution_count": null,
   "metadata": {},
   "outputs": [],
   "source": []
  }
 ],
 "metadata": {
  "kernelspec": {
   "display_name": "Python 3",
   "language": "python",
   "name": "python3"
  },
  "language_info": {
   "codemirror_mode": {
    "name": "ipython",
    "version": 3
   },
   "file_extension": ".py",
   "mimetype": "text/x-python",
   "name": "python",
   "nbconvert_exporter": "python",
   "pygments_lexer": "ipython3",
   "version": "3.8.3"
  }
 },
 "nbformat": 4,
 "nbformat_minor": 4
}
