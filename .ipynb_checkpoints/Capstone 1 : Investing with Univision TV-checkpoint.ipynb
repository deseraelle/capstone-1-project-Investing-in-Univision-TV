{
 "cells": [
  {
   "cell_type": "markdown",
   "metadata": {},
   "source": [
    "# Capstone 1 : Investing with Univision TV\n",
    "## Dævyd Hjelmstad"
   ]
  },
  {
   "cell_type": "markdown",
   "metadata": {},
   "source": [
    "Scenario:\n",
    "\n",
    "\"Hello. My name is Lisa and I am a sales representative for Univision TV in Univision City. There is a new chain of sit down restaurants opening in multiple areas of Univision City. The name of the restaurant chain is Chaz’s in which they prepare multiple Italian and Mexican entrees. I was able to get a meeting with the owner to discuss their opportunity in investing into the Hispanic community. I need a presentation showing the strengths of Hispanics in Univision City with sit down restaurants, and how profitable an investment in Univision TV could be for this client. Thank you, Lisa.”\n",
    "\n",
    "Research Question: \n",
    "“Do sales increase after investing in Univision? If so, what increase can the investor expect to see?”"
   ]
  },
  {
   "cell_type": "markdown",
   "metadata": {},
   "source": [
    "Analysis plan: I will be investigating the provided dataset to determine whether or not running an advertisement on Univision TV for a mexican / italian themed restaurant produces more business for the restaurant. I will be exploring the sum of all mexican & italian restaurants vs. the total data set, as well as exploring individual restaurants which are similar to 'Chaz's', which will provide a good baseline for comparison to how 'Chaz's' itself will do in this scenario. "
   ]
  },
  {
   "cell_type": "markdown",
   "metadata": {},
   "source": [
    "While I will of course be utilizing rigorous statistical analysis and confidence intervals to produce meaningful, realistic results, I will be gearing my analysis towards the intended audience, that being potential investors for a technology company. So, I will choose the strongest examples of existing mexican and italian restaurants when doing the individual analysis. I will also be investigating whether or not advertising with Univision is stronger for mexican & italian restaurants, and investigating what percentage of customers at mexican & italian restaurants in Univision City are hispanic. "
   ]
  },
  {
   "cell_type": "code",
   "execution_count": 1,
   "metadata": {},
   "outputs": [
    {
     "data": {
      "application/javascript": [
       "\n",
       "            setTimeout(function() {\n",
       "                var nbb_cell_id = 1;\n",
       "                var nbb_unformatted_code = \"%reload_ext nb_black\";\n",
       "                var nbb_formatted_code = \"%reload_ext nb_black\";\n",
       "                var nbb_cells = Jupyter.notebook.get_cells();\n",
       "                for (var i = 0; i < nbb_cells.length; ++i) {\n",
       "                    if (nbb_cells[i].input_prompt_number == nbb_cell_id) {\n",
       "                        if (nbb_cells[i].get_text() == nbb_unformatted_code) {\n",
       "                             nbb_cells[i].set_text(nbb_formatted_code);\n",
       "                        }\n",
       "                        break;\n",
       "                    }\n",
       "                }\n",
       "            }, 500);\n",
       "            "
      ],
      "text/plain": [
       "<IPython.core.display.Javascript object>"
      ]
     },
     "metadata": {},
     "output_type": "display_data"
    }
   ],
   "source": [
    "%reload_ext nb_black"
   ]
  },
  {
   "cell_type": "code",
   "execution_count": 2,
   "metadata": {},
   "outputs": [
    {
     "data": {
      "application/javascript": [
       "\n",
       "            setTimeout(function() {\n",
       "                var nbb_cell_id = 2;\n",
       "                var nbb_unformatted_code = \"import pandas as pd\\nimport numpy as np\\n\\nfrom scipy import stats\\n\\nimport seaborn as sns\\nimport matplotlib.pyplot as plt\";\n",
       "                var nbb_formatted_code = \"import pandas as pd\\nimport numpy as np\\n\\nfrom scipy import stats\\n\\nimport seaborn as sns\\nimport matplotlib.pyplot as plt\";\n",
       "                var nbb_cells = Jupyter.notebook.get_cells();\n",
       "                for (var i = 0; i < nbb_cells.length; ++i) {\n",
       "                    if (nbb_cells[i].input_prompt_number == nbb_cell_id) {\n",
       "                        if (nbb_cells[i].get_text() == nbb_unformatted_code) {\n",
       "                             nbb_cells[i].set_text(nbb_formatted_code);\n",
       "                        }\n",
       "                        break;\n",
       "                    }\n",
       "                }\n",
       "            }, 500);\n",
       "            "
      ],
      "text/plain": [
       "<IPython.core.display.Javascript object>"
      ]
     },
     "metadata": {},
     "output_type": "display_data"
    }
   ],
   "source": [
    "import pandas as pd\n",
    "import numpy as np\n",
    "\n",
    "from scipy import stats\n",
    "\n",
    "import seaborn as sns\n",
    "import matplotlib.pyplot as plt\n"
   ]
  },
  {
   "cell_type": "code",
   "execution_count": 9,
   "metadata": {},
   "outputs": [
    {
     "data": {
      "application/javascript": [
       "\n",
       "            setTimeout(function() {\n",
       "                var nbb_cell_id = 9;\n",
       "                var nbb_unformatted_code = \"data_file = \\\"Univision City Data.xlsx\\\"\\nxlsx = pd.ExcelFile(data_file)\\nxlsx_sheets = xlsx.sheet_names\\n\\ndf_restaurant_info = pd.read_excel(xlsx, xlsx_sheets[0])\\ndf_univision_city_restaurant_spending = pd.read_excel(xlsx, xlsx_sheets[1])\\ndf_restaurant_type = pd.read_excel(xlsx, xlsx_sheets[2])\\ndf_restaurant_activity = pd.read_excel(xlsx, xlsx_sheets[3])\\ndf_restaurant_trend = pd.read_excel(xlsx, xlsx_sheets[4])\\ndf_UC_adult_population = pd.read_excel(xlsx, xlsx_sheets[5])\\ndf_UC_household_info = pd.read_excel(xlsx, xlsx_sheets[6])\\ndf_HHLD = pd.read_excel(xlsx, xlsx_sheets[7])\\ndf_advertising_spending = pd.read_excel(xlsx, xlsx_sheets[8])\";\n",
       "                var nbb_formatted_code = \"data_file = \\\"Univision City Data.xlsx\\\"\\nxlsx = pd.ExcelFile(data_file)\\nxlsx_sheets = xlsx.sheet_names\\n\\ndf_restaurant_info = pd.read_excel(xlsx, xlsx_sheets[0])\\ndf_univision_city_restaurant_spending = pd.read_excel(xlsx, xlsx_sheets[1])\\ndf_restaurant_type = pd.read_excel(xlsx, xlsx_sheets[2])\\ndf_restaurant_activity = pd.read_excel(xlsx, xlsx_sheets[3])\\ndf_restaurant_trend = pd.read_excel(xlsx, xlsx_sheets[4])\\ndf_UC_adult_population = pd.read_excel(xlsx, xlsx_sheets[5])\\ndf_UC_household_info = pd.read_excel(xlsx, xlsx_sheets[6])\\ndf_HHLD = pd.read_excel(xlsx, xlsx_sheets[7])\\ndf_advertising_spending = pd.read_excel(xlsx, xlsx_sheets[8])\";\n",
       "                var nbb_cells = Jupyter.notebook.get_cells();\n",
       "                for (var i = 0; i < nbb_cells.length; ++i) {\n",
       "                    if (nbb_cells[i].input_prompt_number == nbb_cell_id) {\n",
       "                        if (nbb_cells[i].get_text() == nbb_unformatted_code) {\n",
       "                             nbb_cells[i].set_text(nbb_formatted_code);\n",
       "                        }\n",
       "                        break;\n",
       "                    }\n",
       "                }\n",
       "            }, 500);\n",
       "            "
      ],
      "text/plain": [
       "<IPython.core.display.Javascript object>"
      ]
     },
     "metadata": {},
     "output_type": "display_data"
    }
   ],
   "source": [
    "data_file = \"Univision City Data.xlsx\"\n",
    "xlsx = pd.ExcelFile(data_file)\n",
    "xlsx_sheets = xlsx.sheet_names\n",
    "\n",
    "df_restaurant_info = pd.read_excel(xlsx, xlsx_sheets[0])\n",
    "df_univision_city_restaurant_spending = pd.read_excel(xlsx, xlsx_sheets[1])\n",
    "df_restaurant_type = pd.read_excel(xlsx, xlsx_sheets[2])\n",
    "df_restaurant_activity = pd.read_excel(xlsx, xlsx_sheets[3])\n",
    "df_restaurant_trend = pd.read_excel(xlsx, xlsx_sheets[4])\n",
    "df_UC_adult_population = pd.read_excel(xlsx, xlsx_sheets[5])\n",
    "df_UC_household_info = pd.read_excel(xlsx, xlsx_sheets[6])\n",
    "df_HHLD = pd.read_excel(xlsx, xlsx_sheets[7])\n",
    "df_advertising_spending = pd.read_excel(xlsx, xlsx_sheets[8])"
   ]
  },
  {
   "cell_type": "code",
   "execution_count": 13,
   "metadata": {},
   "outputs": [
    {
     "data": {
      "text/html": [
       "<div>\n",
       "<style scoped>\n",
       "    .dataframe tbody tr th:only-of-type {\n",
       "        vertical-align: middle;\n",
       "    }\n",
       "\n",
       "    .dataframe tbody tr th {\n",
       "        vertical-align: top;\n",
       "    }\n",
       "\n",
       "    .dataframe thead th {\n",
       "        text-align: right;\n",
       "    }\n",
       "</style>\n",
       "<table border=\"1\" class=\"dataframe\">\n",
       "  <thead>\n",
       "    <tr style=\"text-align: right;\">\n",
       "      <th></th>\n",
       "      <th>Sit Down Restaurants used in the Past 6 Months (Among Adults Age 18+)</th>\n",
       "      <th># of Hispanics</th>\n",
       "      <th>% of Hispanics</th>\n",
       "      <th>Hispanic Index to Total Market</th>\n",
       "      <th># of Non-Hispanics</th>\n",
       "      <th>% of Non-Hispanics</th>\n",
       "      <th>Non-Hispanic Index to Total Market</th>\n",
       "    </tr>\n",
       "  </thead>\n",
       "  <tbody>\n",
       "    <tr>\n",
       "      <th>0</th>\n",
       "      <td>Any sit-down restaurant</td>\n",
       "      <td>828786</td>\n",
       "      <td>0.787</td>\n",
       "      <td>98</td>\n",
       "      <td>2635867</td>\n",
       "      <td>0.801</td>\n",
       "      <td>101</td>\n",
       "    </tr>\n",
       "    <tr>\n",
       "      <th>1</th>\n",
       "      <td>Applebee's</td>\n",
       "      <td>117084</td>\n",
       "      <td>0.113</td>\n",
       "      <td>130</td>\n",
       "      <td>252718</td>\n",
       "      <td>0.077</td>\n",
       "      <td>90</td>\n",
       "    </tr>\n",
       "    <tr>\n",
       "      <th>2</th>\n",
       "      <td>Buca di Beppo</td>\n",
       "      <td>21706</td>\n",
       "      <td>0.023</td>\n",
       "      <td>141</td>\n",
       "      <td>41627</td>\n",
       "      <td>0.013</td>\n",
       "      <td>87</td>\n",
       "    </tr>\n",
       "    <tr>\n",
       "      <th>3</th>\n",
       "      <td>California Pizza Kitchen</td>\n",
       "      <td>13581</td>\n",
       "      <td>0.015</td>\n",
       "      <td>62</td>\n",
       "      <td>76284</td>\n",
       "      <td>0.023</td>\n",
       "      <td>112</td>\n",
       "    </tr>\n",
       "    <tr>\n",
       "      <th>4</th>\n",
       "      <td>Carrabba's Italian Grill</td>\n",
       "      <td>34180</td>\n",
       "      <td>0.034</td>\n",
       "      <td>135</td>\n",
       "      <td>70243</td>\n",
       "      <td>0.021</td>\n",
       "      <td>89</td>\n",
       "    </tr>\n",
       "    <tr>\n",
       "      <th>5</th>\n",
       "      <td>The Cheesecake Factory</td>\n",
       "      <td>42291</td>\n",
       "      <td>0.042</td>\n",
       "      <td>63</td>\n",
       "      <td>232079</td>\n",
       "      <td>0.071</td>\n",
       "      <td>112</td>\n",
       "    </tr>\n",
       "    <tr>\n",
       "      <th>6</th>\n",
       "      <td>Chili's</td>\n",
       "      <td>53089</td>\n",
       "      <td>0.052</td>\n",
       "      <td>71</td>\n",
       "      <td>253474</td>\n",
       "      <td>0.077</td>\n",
       "      <td>109</td>\n",
       "    </tr>\n",
       "    <tr>\n",
       "      <th>7</th>\n",
       "      <td>Chuck E Cheese's</td>\n",
       "      <td>50885</td>\n",
       "      <td>0.055</td>\n",
       "      <td>290</td>\n",
       "      <td>21239</td>\n",
       "      <td>0.006</td>\n",
       "      <td>39</td>\n",
       "    </tr>\n",
       "    <tr>\n",
       "      <th>8</th>\n",
       "      <td>Cracker Barrel</td>\n",
       "      <td>98941</td>\n",
       "      <td>0.092</td>\n",
       "      <td>136</td>\n",
       "      <td>199881</td>\n",
       "      <td>0.061</td>\n",
       "      <td>88</td>\n",
       "    </tr>\n",
       "    <tr>\n",
       "      <th>9</th>\n",
       "      <td>Culinary Dropout</td>\n",
       "      <td>16474</td>\n",
       "      <td>0.018</td>\n",
       "      <td>78</td>\n",
       "      <td>70928</td>\n",
       "      <td>0.022</td>\n",
       "      <td>107</td>\n",
       "    </tr>\n",
       "  </tbody>\n",
       "</table>\n",
       "</div>"
      ],
      "text/plain": [
       "  Sit Down Restaurants used in the Past 6 Months (Among Adults Age 18+)   \\\n",
       "0                            Any sit-down restaurant                       \n",
       "1                                         Applebee's                       \n",
       "2                                      Buca di Beppo                       \n",
       "3                           California Pizza Kitchen                       \n",
       "4                           Carrabba's Italian Grill                       \n",
       "5                             The Cheesecake Factory                       \n",
       "6                                            Chili's                       \n",
       "7                                   Chuck E Cheese's                       \n",
       "8                                     Cracker Barrel                       \n",
       "9                                   Culinary Dropout                       \n",
       "\n",
       "   # of Hispanics  % of Hispanics  Hispanic Index to Total Market  \\\n",
       "0          828786           0.787                              98   \n",
       "1          117084           0.113                             130   \n",
       "2           21706           0.023                             141   \n",
       "3           13581           0.015                              62   \n",
       "4           34180           0.034                             135   \n",
       "5           42291           0.042                              63   \n",
       "6           53089           0.052                              71   \n",
       "7           50885           0.055                             290   \n",
       "8           98941           0.092                             136   \n",
       "9           16474           0.018                              78   \n",
       "\n",
       "   # of Non-Hispanics  % of Non-Hispanics  Non-Hispanic Index to Total Market  \n",
       "0             2635867               0.801                                 101  \n",
       "1              252718               0.077                                  90  \n",
       "2               41627               0.013                                  87  \n",
       "3               76284               0.023                                 112  \n",
       "4               70243               0.021                                  89  \n",
       "5              232079               0.071                                 112  \n",
       "6              253474               0.077                                 109  \n",
       "7               21239               0.006                                  39  \n",
       "8              199881               0.061                                  88  \n",
       "9               70928               0.022                                 107  "
      ]
     },
     "execution_count": 13,
     "metadata": {},
     "output_type": "execute_result"
    },
    {
     "data": {
      "application/javascript": [
       "\n",
       "            setTimeout(function() {\n",
       "                var nbb_cell_id = 13;\n",
       "                var nbb_unformatted_code = \"df_restaurant_info.head(10)\";\n",
       "                var nbb_formatted_code = \"df_restaurant_info.head(10)\";\n",
       "                var nbb_cells = Jupyter.notebook.get_cells();\n",
       "                for (var i = 0; i < nbb_cells.length; ++i) {\n",
       "                    if (nbb_cells[i].input_prompt_number == nbb_cell_id) {\n",
       "                        if (nbb_cells[i].get_text() == nbb_unformatted_code) {\n",
       "                             nbb_cells[i].set_text(nbb_formatted_code);\n",
       "                        }\n",
       "                        break;\n",
       "                    }\n",
       "                }\n",
       "            }, 500);\n",
       "            "
      ],
      "text/plain": [
       "<IPython.core.display.Javascript object>"
      ]
     },
     "metadata": {},
     "output_type": "display_data"
    }
   ],
   "source": [
    "df_restaurant_info.head(10)"
   ]
  },
  {
   "cell_type": "code",
   "execution_count": null,
   "metadata": {},
   "outputs": [],
   "source": []
  }
 ],
 "metadata": {
  "kernelspec": {
   "display_name": "Python 3",
   "language": "python",
   "name": "python3"
  },
  "language_info": {
   "codemirror_mode": {
    "name": "ipython",
    "version": 3
   },
   "file_extension": ".py",
   "mimetype": "text/x-python",
   "name": "python",
   "nbconvert_exporter": "python",
   "pygments_lexer": "ipython3",
   "version": "3.8.3"
  }
 },
 "nbformat": 4,
 "nbformat_minor": 4
}
