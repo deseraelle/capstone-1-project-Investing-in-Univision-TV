{
 "cells": [
  {
   "cell_type": "markdown",
   "metadata": {},
   "source": [
    "## Capstone 1 : Investing with Univision TV\n",
    "#### Dævyd Hjelmstad --- Thinkful Data Science Intensive Cohort #8"
   ]
  },
  {
   "cell_type": "markdown",
   "metadata": {},
   "source": [
    "## Introduction"
   ]
  },
  {
   "cell_type": "markdown",
   "metadata": {},
   "source": [
    "A sales representative named Lisa from Univision TV has requested an analysis of a potential client for advertising with Univision. The client is Chaz's, a new restaurant chain in Univision City that serves Mexican and Italian entrees (we will refer to these types of restaurants as \"Mexitalian\" restaurants later on in our study)\n",
    "\n",
    "Lisa has requested an analysis & presentation which illustrates the strength of the Hispanic population in Univision City as consumers at sit-down restaurants. She would also like this presentation to include an analysis of how profitable an investment in Univision TV could be for Chaz's. "
   ]
  },
  {
   "cell_type": "markdown",
   "metadata": {},
   "source": [
    "## Hypotheses"
   ]
  },
  {
   "cell_type": "markdown",
   "metadata": {},
   "source": [
    "##### 1\n",
    "     \n",
    "* $H_{1_0}$ : There is no difference between the Hispanic vs. Non-Hispanic populations as consumers at sit-down restaurants in Univision City.\n",
    "* $H_{1_a}$ : The Hispanic population is significantly stronger group of consumers at sit-down restaurants in Univision City.\n",
    "\n",
    "##### 2\n",
    "* $H_{2_0}$ : An investment in advertising on Univision TV produces no net profit for the client. \n",
    "* $H_{2_a}$ : An investment in advertising on Univision TV will produce a net profit for the client. "
   ]
  },
  {
   "cell_type": "markdown",
   "metadata": {},
   "source": [
    "# Data"
   ]
  },
  {
   "cell_type": "markdown",
   "metadata": {},
   "source": [
    "The data set was provided by Lisa via email, so it is safe to assume this should be sufficient for the scope of this project. \n",
    "The excel dataset was cleaned up to make it easier to read into python & is available at\n",
    "\n",
    "https://drive.google.com/file/d/1WG0Ug8SUzSjjSOYemZLrI0_9-SmifUOf/view?usp=sharing"
   ]
  },
  {
   "cell_type": "code",
   "execution_count": 1,
   "metadata": {},
   "outputs": [
    {
     "data": {
      "application/javascript": [
       "\n",
       "            setTimeout(function() {\n",
       "                var nbb_cell_id = 1;\n",
       "                var nbb_unformatted_code = \"# setup\\n%reload_ext nb_black\\n\\nimport math\\nimport pandas as pd\\nimport numpy as np\\nfrom scipy import stats\\nimport seaborn as sns\\nimport matplotlib.pyplot as plt\\n\\n\\ndata_file = \\\"Univision City Data for Capstone I.xlsx\\\"\\nxlsx = pd.ExcelFile(data_file)\\nxlsx_sheets = xlsx.sheet_names\\n\\ndf_restaurant_info = pd.read_excel(xlsx, xlsx_sheets[0])\\ndf_restaurant_advertising_spending = pd.read_excel(xlsx, xlsx_sheets[8])\";\n",
       "                var nbb_formatted_code = \"# setup\\n%reload_ext nb_black\\n\\nimport math\\nimport pandas as pd\\nimport numpy as np\\nfrom scipy import stats\\nimport seaborn as sns\\nimport matplotlib.pyplot as plt\\n\\n\\ndata_file = \\\"Univision City Data for Capstone I.xlsx\\\"\\nxlsx = pd.ExcelFile(data_file)\\nxlsx_sheets = xlsx.sheet_names\\n\\ndf_restaurant_info = pd.read_excel(xlsx, xlsx_sheets[0])\\ndf_restaurant_advertising_spending = pd.read_excel(xlsx, xlsx_sheets[8])\";\n",
       "                var nbb_cells = Jupyter.notebook.get_cells();\n",
       "                for (var i = 0; i < nbb_cells.length; ++i) {\n",
       "                    if (nbb_cells[i].input_prompt_number == nbb_cell_id) {\n",
       "                        if (nbb_cells[i].get_text() == nbb_unformatted_code) {\n",
       "                             nbb_cells[i].set_text(nbb_formatted_code);\n",
       "                        }\n",
       "                        break;\n",
       "                    }\n",
       "                }\n",
       "            }, 500);\n",
       "            "
      ],
      "text/plain": [
       "<IPython.core.display.Javascript object>"
      ]
     },
     "metadata": {},
     "output_type": "display_data"
    }
   ],
   "source": [
    "# setup\n",
    "%reload_ext nb_black\n",
    "\n",
    "import math\n",
    "import pandas as pd\n",
    "import numpy as np\n",
    "from scipy import stats\n",
    "import seaborn as sns\n",
    "import matplotlib.pyplot as plt\n",
    "\n",
    "\n",
    "data_file = \"Univision City Data for Capstone I.xlsx\"\n",
    "xlsx = pd.ExcelFile(data_file)\n",
    "xlsx_sheets = xlsx.sheet_names\n",
    "\n",
    "df_restaurant_info = pd.read_excel(xlsx, xlsx_sheets[0])\n",
    "df_restaurant_advertising_spending = pd.read_excel(xlsx, xlsx_sheets[8])\n"
   ]
  },
  {
   "cell_type": "markdown",
   "metadata": {},
   "source": [
    "## Method"
   ]
  },
  {
   "cell_type": "markdown",
   "metadata": {},
   "source": [
    "We will be using the data frame called 'df_restaurant_info' to explore a significant variation in the means of the '%' & 'Index to Total Market' columns of Hispanic vs. Non-Hispanic populations.\n",
    "Lisa gave no info about how the 'Index to Total Market' was calculated, but it is safe to assume it is a measurement of popularity within the demographic. After some analysis, it appears the 'Index to Total Market' in this case is in fact defined as follows:\n",
    "\n",
    "$$p_1=\\frac{\\text{# of Hispanics who eat at sit down restaurants}}{\\text{total people who eat at sit down restaurants}}$$\n",
    "\n",
    "$$p_2=\\frac{\\text{# of Hispanics who eat at Restaurant X}}{\\text{total people who eat at Restaurant X}}$$\n",
    "\n",
    "$$\\text{Index to Total Market of Restaurant X}=\\frac{p_1}{p_2}$$"
   ]
  },
  {
   "cell_type": "markdown",
   "metadata": {},
   "source": [
    "### Hypothesis 1:"
   ]
  },
  {
   "cell_type": "code",
   "execution_count": 2,
   "metadata": {},
   "outputs": [
    {
     "data": {
      "text/html": [
       "<div>\n",
       "<style scoped>\n",
       "    .dataframe tbody tr th:only-of-type {\n",
       "        vertical-align: middle;\n",
       "    }\n",
       "\n",
       "    .dataframe tbody tr th {\n",
       "        vertical-align: top;\n",
       "    }\n",
       "\n",
       "    .dataframe thead th {\n",
       "        text-align: right;\n",
       "    }\n",
       "</style>\n",
       "<table border=\"1\" class=\"dataframe\">\n",
       "  <thead>\n",
       "    <tr style=\"text-align: right;\">\n",
       "      <th></th>\n",
       "      <th>Sit Down Restaurants used in the Past 6 Months (Among Adults Age 18+)</th>\n",
       "      <th># of Hispanics</th>\n",
       "      <th>% of Hispanics</th>\n",
       "      <th>Hispanic Index to Total Market</th>\n",
       "      <th># of Non-Hispanics</th>\n",
       "      <th>% of Non-Hispanics</th>\n",
       "      <th>Non-Hispanic Index to Total Market</th>\n",
       "    </tr>\n",
       "  </thead>\n",
       "  <tbody>\n",
       "    <tr>\n",
       "      <th>0</th>\n",
       "      <td>Any sit-down restaurant</td>\n",
       "      <td>828786</td>\n",
       "      <td>0.787</td>\n",
       "      <td>98</td>\n",
       "      <td>2635867</td>\n",
       "      <td>0.801</td>\n",
       "      <td>101</td>\n",
       "    </tr>\n",
       "    <tr>\n",
       "      <th>1</th>\n",
       "      <td>Applebee's</td>\n",
       "      <td>117084</td>\n",
       "      <td>0.113</td>\n",
       "      <td>130</td>\n",
       "      <td>252718</td>\n",
       "      <td>0.077</td>\n",
       "      <td>90</td>\n",
       "    </tr>\n",
       "    <tr>\n",
       "      <th>2</th>\n",
       "      <td>Buca di Beppo</td>\n",
       "      <td>21706</td>\n",
       "      <td>0.023</td>\n",
       "      <td>141</td>\n",
       "      <td>41627</td>\n",
       "      <td>0.013</td>\n",
       "      <td>87</td>\n",
       "    </tr>\n",
       "    <tr>\n",
       "      <th>3</th>\n",
       "      <td>California Pizza Kitchen</td>\n",
       "      <td>13581</td>\n",
       "      <td>0.015</td>\n",
       "      <td>62</td>\n",
       "      <td>76284</td>\n",
       "      <td>0.023</td>\n",
       "      <td>112</td>\n",
       "    </tr>\n",
       "    <tr>\n",
       "      <th>4</th>\n",
       "      <td>Carrabba's Italian Grill</td>\n",
       "      <td>34180</td>\n",
       "      <td>0.034</td>\n",
       "      <td>135</td>\n",
       "      <td>70243</td>\n",
       "      <td>0.021</td>\n",
       "      <td>89</td>\n",
       "    </tr>\n",
       "  </tbody>\n",
       "</table>\n",
       "</div>"
      ],
      "text/plain": [
       "  Sit Down Restaurants used in the Past 6 Months (Among Adults Age 18+)   \\\n",
       "0                            Any sit-down restaurant                       \n",
       "1                                         Applebee's                       \n",
       "2                                      Buca di Beppo                       \n",
       "3                           California Pizza Kitchen                       \n",
       "4                           Carrabba's Italian Grill                       \n",
       "\n",
       "   # of Hispanics  % of Hispanics  Hispanic Index to Total Market  \\\n",
       "0          828786           0.787                              98   \n",
       "1          117084           0.113                             130   \n",
       "2           21706           0.023                             141   \n",
       "3           13581           0.015                              62   \n",
       "4           34180           0.034                             135   \n",
       "\n",
       "   # of Non-Hispanics  % of Non-Hispanics  Non-Hispanic Index to Total Market  \n",
       "0             2635867               0.801                                 101  \n",
       "1              252718               0.077                                  90  \n",
       "2               41627               0.013                                  87  \n",
       "3               76284               0.023                                 112  \n",
       "4               70243               0.021                                  89  "
      ]
     },
     "execution_count": 2,
     "metadata": {},
     "output_type": "execute_result"
    },
    {
     "data": {
      "application/javascript": [
       "\n",
       "            setTimeout(function() {\n",
       "                var nbb_cell_id = 2;\n",
       "                var nbb_unformatted_code = \"df_restaurant_info.head()\";\n",
       "                var nbb_formatted_code = \"df_restaurant_info.head()\";\n",
       "                var nbb_cells = Jupyter.notebook.get_cells();\n",
       "                for (var i = 0; i < nbb_cells.length; ++i) {\n",
       "                    if (nbb_cells[i].input_prompt_number == nbb_cell_id) {\n",
       "                        if (nbb_cells[i].get_text() == nbb_unformatted_code) {\n",
       "                             nbb_cells[i].set_text(nbb_formatted_code);\n",
       "                        }\n",
       "                        break;\n",
       "                    }\n",
       "                }\n",
       "            }, 500);\n",
       "            "
      ],
      "text/plain": [
       "<IPython.core.display.Javascript object>"
      ]
     },
     "metadata": {},
     "output_type": "display_data"
    }
   ],
   "source": [
    "df_restaurant_info.head()"
   ]
  },
  {
   "cell_type": "markdown",
   "metadata": {},
   "source": [
    "It looks like the first element contains information for 'any sit-down restaurant', so it is an aggregated number. This will be useful later in our analysis, but for now, we drop this data element & procede with the current tests. "
   ]
  },
  {
   "cell_type": "code",
   "execution_count": 3,
   "metadata": {},
   "outputs": [
    {
     "name": "stdout",
     "output_type": "stream",
     "text": [
      "0 - Sit Down Restaurants used in the Past 6 Months (Among Adults Age 18+) \n",
      "1 - # of Hispanics\n",
      "2 - % of Hispanics\n",
      "3 - Hispanic Index to Total Market\n",
      "4 - # of Non-Hispanics\n",
      "5 - % of Non-Hispanics\n",
      "6 - Non-Hispanic Index to Total Market\n"
     ]
    },
    {
     "data": {
      "application/javascript": [
       "\n",
       "            setTimeout(function() {\n",
       "                var nbb_cell_id = 3;\n",
       "                var nbb_unformatted_code = \"# defining the columns of df_restaurant_info as a list, \\n#since some of the names are long\\n\\nrestaurant_columns = df_restaurant_info.columns\\nfor i, item in enumerate(restaurant_columns, start=0):\\n    print(i,\\\"-\\\",item)\";\n",
       "                var nbb_formatted_code = \"# defining the columns of df_restaurant_info as a list,\\n# since some of the names are long\\n\\nrestaurant_columns = df_restaurant_info.columns\\nfor i, item in enumerate(restaurant_columns, start=0):\\n    print(i, \\\"-\\\", item)\";\n",
       "                var nbb_cells = Jupyter.notebook.get_cells();\n",
       "                for (var i = 0; i < nbb_cells.length; ++i) {\n",
       "                    if (nbb_cells[i].input_prompt_number == nbb_cell_id) {\n",
       "                        if (nbb_cells[i].get_text() == nbb_unformatted_code) {\n",
       "                             nbb_cells[i].set_text(nbb_formatted_code);\n",
       "                        }\n",
       "                        break;\n",
       "                    }\n",
       "                }\n",
       "            }, 500);\n",
       "            "
      ],
      "text/plain": [
       "<IPython.core.display.Javascript object>"
      ]
     },
     "metadata": {},
     "output_type": "display_data"
    }
   ],
   "source": [
    "# defining the columns of df_restaurant_info as a list, \n",
    "#since some of the names are long\n",
    "\n",
    "restaurant_columns = df_restaurant_info.columns\n",
    "for i, item in enumerate(restaurant_columns, start=0):\n",
    "    print(i,\"-\",item)\n"
   ]
  },
  {
   "cell_type": "code",
   "execution_count": 4,
   "metadata": {},
   "outputs": [
    {
     "data": {
      "application/javascript": [
       "\n",
       "            setTimeout(function() {\n",
       "                var nbb_cell_id = 4;\n",
       "                var nbb_unformatted_code = \"# drop the first element which contains aggregated data\\ndf_restaurant_info = df_restaurant_info[\\n    df_restaurant_info[restaurant_columns[0]] != \\\"Any sit-down restaurant\\\"\\n]\";\n",
       "                var nbb_formatted_code = \"# drop the first element which contains aggregated data\\ndf_restaurant_info = df_restaurant_info[\\n    df_restaurant_info[restaurant_columns[0]] != \\\"Any sit-down restaurant\\\"\\n]\";\n",
       "                var nbb_cells = Jupyter.notebook.get_cells();\n",
       "                for (var i = 0; i < nbb_cells.length; ++i) {\n",
       "                    if (nbb_cells[i].input_prompt_number == nbb_cell_id) {\n",
       "                        if (nbb_cells[i].get_text() == nbb_unformatted_code) {\n",
       "                             nbb_cells[i].set_text(nbb_formatted_code);\n",
       "                        }\n",
       "                        break;\n",
       "                    }\n",
       "                }\n",
       "            }, 500);\n",
       "            "
      ],
      "text/plain": [
       "<IPython.core.display.Javascript object>"
      ]
     },
     "metadata": {},
     "output_type": "display_data"
    }
   ],
   "source": [
    "# drop the first element which contains aggregated data\n",
    "df_restaurant_info = df_restaurant_info[\n",
    "    df_restaurant_info[restaurant_columns[0]] != \"Any sit-down restaurant\"\n",
    "]"
   ]
  },
  {
   "cell_type": "markdown",
   "metadata": {},
   "source": [
    "First, let's plot histograms of the distributions of '%' and 'Index' columns"
   ]
  },
  {
   "cell_type": "code",
   "execution_count": 5,
   "metadata": {},
   "outputs": [
    {
     "name": "stdout",
     "output_type": "stream",
     "text": [
      "DescribeResult(nobs=30, minmax=(0.01, 0.284), mean=0.05763333333333332, variance=0.0043878264367816075, skewness=2.2315847013744423, kurtosis=4.484604992004228)\n",
      "DescribeResult(nobs=30, minmax=(0.006, 0.172), mean=0.047466666666666664, variance=0.0014879816091954024, skewness=1.5083238312376936, kurtosis=2.2029355085746767)\n"
     ]
    },
    {
     "data": {
      "image/png": "[encoded data removed]",
      "text/plain": [
       "<Figure size 432x288 with 1 Axes>"
      ]
     },
     "metadata": {
      "needs_background": "light"
     },
     "output_type": "display_data"
    },
    {
     "data": {
      "application/javascript": [
       "\n",
       "            setTimeout(function() {\n",
       "                var nbb_cell_id = 5;\n",
       "                var nbb_unformatted_code = \"# plot histogram & print stats for '% of Hispanics' & '% of Non-Hispanics' columns\\n\\nplt.hist(df_restaurant_info[restaurant_columns[2]], alpha=0.5)\\nplt.hist(df_restaurant_info[restaurant_columns[5]], alpha=0.5)\\nprint(stats.describe(df_restaurant_info[restaurant_columns[2]]))\\nprint(stats.describe(df_restaurant_info[restaurant_columns[5]]))\\nplt.show()\";\n",
       "                var nbb_formatted_code = \"# plot histogram & print stats for '% of Hispanics' & '% of Non-Hispanics' columns\\n\\nplt.hist(df_restaurant_info[restaurant_columns[2]], alpha=0.5)\\nplt.hist(df_restaurant_info[restaurant_columns[5]], alpha=0.5)\\nprint(stats.describe(df_restaurant_info[restaurant_columns[2]]))\\nprint(stats.describe(df_restaurant_info[restaurant_columns[5]]))\\nplt.show()\";\n",
       "                var nbb_cells = Jupyter.notebook.get_cells();\n",
       "                for (var i = 0; i < nbb_cells.length; ++i) {\n",
       "                    if (nbb_cells[i].input_prompt_number == nbb_cell_id) {\n",
       "                        if (nbb_cells[i].get_text() == nbb_unformatted_code) {\n",
       "                             nbb_cells[i].set_text(nbb_formatted_code);\n",
       "                        }\n",
       "                        break;\n",
       "                    }\n",
       "                }\n",
       "            }, 500);\n",
       "            "
      ],
      "text/plain": [
       "<IPython.core.display.Javascript object>"
      ]
     },
     "metadata": {},
     "output_type": "display_data"
    }
   ],
   "source": [
    "# plot histogram & print stats for '% of Hispanics' & '% of Non-Hispanics' columns\n",
    "\n",
    "plt.hist(df_restaurant_info[restaurant_columns[2]], alpha=0.5)\n",
    "plt.hist(df_restaurant_info[restaurant_columns[5]], alpha=0.5)\n",
    "print(stats.describe(df_restaurant_info[restaurant_columns[2]]))\n",
    "print(stats.describe(df_restaurant_info[restaurant_columns[5]]))\n",
    "plt.show()"
   ]
  },
  {
   "cell_type": "code",
   "execution_count": 6,
   "metadata": {
    "scrolled": true
   },
   "outputs": [
    {
     "name": "stdout",
     "output_type": "stream",
     "text": [
      "DescribeResult(nobs=30, minmax=(47, 290), mean=107.03333333333333, variance=2390.2402298850566, skewness=1.669826517913023, kurtosis=4.4459552062788505)\n",
      "DescribeResult(nobs=30, minmax=(39, 117), mean=97.73333333333333, variance=245.3747126436782, skewness=-1.6756496629909805, kurtosis=4.499098748229652)\n"
     ]
    },
    {
     "data": {
      "image/png": "[encoded data removed]",
      "text/plain": [
       "<Figure size 432x288 with 1 Axes>"
      ]
     },
     "metadata": {
      "needs_background": "light"
     },
     "output_type": "display_data"
    },
    {
     "data": {
      "application/javascript": [
       "\n",
       "            setTimeout(function() {\n",
       "                var nbb_cell_id = 6;\n",
       "                var nbb_unformatted_code = \"# plot histogram & print stats for\\n# 'Hispanic index to total market' &\\n#'Non-Hispanic index to total market' columns\\n\\nplt.hist(df_restaurant_info[restaurant_columns[3]], alpha=0.5)\\nplt.hist(df_restaurant_info[restaurant_columns[6]], alpha=0.5)\\nprint(stats.describe(df_restaurant_info[restaurant_columns[3]]))\\nprint(stats.describe(df_restaurant_info[restaurant_columns[6]]))\\nplt.show()\";\n",
       "                var nbb_formatted_code = \"# plot histogram & print stats for\\n# 'Hispanic index to total market' &\\n#'Non-Hispanic index to total market' columns\\n\\nplt.hist(df_restaurant_info[restaurant_columns[3]], alpha=0.5)\\nplt.hist(df_restaurant_info[restaurant_columns[6]], alpha=0.5)\\nprint(stats.describe(df_restaurant_info[restaurant_columns[3]]))\\nprint(stats.describe(df_restaurant_info[restaurant_columns[6]]))\\nplt.show()\";\n",
       "                var nbb_cells = Jupyter.notebook.get_cells();\n",
       "                for (var i = 0; i < nbb_cells.length; ++i) {\n",
       "                    if (nbb_cells[i].input_prompt_number == nbb_cell_id) {\n",
       "                        if (nbb_cells[i].get_text() == nbb_unformatted_code) {\n",
       "                             nbb_cells[i].set_text(nbb_formatted_code);\n",
       "                        }\n",
       "                        break;\n",
       "                    }\n",
       "                }\n",
       "            }, 500);\n",
       "            "
      ],
      "text/plain": [
       "<IPython.core.display.Javascript object>"
      ]
     },
     "metadata": {},
     "output_type": "display_data"
    }
   ],
   "source": [
    "# plot histogram & print stats for\n",
    "# 'Hispanic index to total market' &\n",
    "#'Non-Hispanic index to total market' columns\n",
    "\n",
    "plt.hist(df_restaurant_info[restaurant_columns[3]], alpha=0.5)\n",
    "plt.hist(df_restaurant_info[restaurant_columns[6]], alpha=0.5)\n",
    "print(stats.describe(df_restaurant_info[restaurant_columns[3]]))\n",
    "print(stats.describe(df_restaurant_info[restaurant_columns[6]]))\n",
    "plt.show()"
   ]
  },
  {
   "cell_type": "markdown",
   "metadata": {},
   "source": [
    "So, it looks like the Hispanic population has both a higher mean % and a higher mean Index to total market across all restaurants that we have data for! This is a good indication, but we would like to run a t-test to ensure that this is a statistically significant difference. \n",
    "\n",
    "However, the data is not very normal so we will not be able to use a t-test directly to determine if this is a significant difference or not. I would like to use a bootstrapping re-sampling technique to take the means of 10 restaurants at a time & get a normal data distribution to use to find confidence intervals."
   ]
  },
  {
   "cell_type": "code",
   "execution_count": 7,
   "metadata": {},
   "outputs": [
    {
     "data": {
      "application/javascript": [
       "\n",
       "            setTimeout(function() {\n",
       "                var nbb_cell_id = 7;\n",
       "                var nbb_unformatted_code = \"sample_means_Hispanic_Percent = []\\nsample_means_Hispanic_Index = []\\nsample_means_NonHispanic_Percent = []\\nsample_means_NonHispanic_Index = []\\nfor i in range(100000):\\n    sample_means_Hispanic_Percent.append(\\n        df_restaurant_info[restaurant_columns[2]].sample(10).mean()\\n    )\\n    sample_means_Hispanic_Index.append(\\n        df_restaurant_info[restaurant_columns[3]].sample(10).mean()\\n    )\\n    sample_means_NonHispanic_Percent.append(\\n        df_restaurant_info[restaurant_columns[5]].sample(10).mean()\\n    )\\n    sample_means_NonHispanic_Index.append(\\n        df_restaurant_info[restaurant_columns[6]].sample(10).mean()\\n    )\";\n",
       "                var nbb_formatted_code = \"sample_means_Hispanic_Percent = []\\nsample_means_Hispanic_Index = []\\nsample_means_NonHispanic_Percent = []\\nsample_means_NonHispanic_Index = []\\nfor i in range(100000):\\n    sample_means_Hispanic_Percent.append(\\n        df_restaurant_info[restaurant_columns[2]].sample(10).mean()\\n    )\\n    sample_means_Hispanic_Index.append(\\n        df_restaurant_info[restaurant_columns[3]].sample(10).mean()\\n    )\\n    sample_means_NonHispanic_Percent.append(\\n        df_restaurant_info[restaurant_columns[5]].sample(10).mean()\\n    )\\n    sample_means_NonHispanic_Index.append(\\n        df_restaurant_info[restaurant_columns[6]].sample(10).mean()\\n    )\";\n",
       "                var nbb_cells = Jupyter.notebook.get_cells();\n",
       "                for (var i = 0; i < nbb_cells.length; ++i) {\n",
       "                    if (nbb_cells[i].input_prompt_number == nbb_cell_id) {\n",
       "                        if (nbb_cells[i].get_text() == nbb_unformatted_code) {\n",
       "                             nbb_cells[i].set_text(nbb_formatted_code);\n",
       "                        }\n",
       "                        break;\n",
       "                    }\n",
       "                }\n",
       "            }, 500);\n",
       "            "
      ],
      "text/plain": [
       "<IPython.core.display.Javascript object>"
      ]
     },
     "metadata": {},
     "output_type": "display_data"
    }
   ],
   "source": [
    "sample_means_Hispanic_Percent = []\n",
    "sample_means_Hispanic_Index = []\n",
    "sample_means_NonHispanic_Percent = []\n",
    "sample_means_NonHispanic_Index = []\n",
    "for i in range(100000):\n",
    "    sample_means_Hispanic_Percent.append(\n",
    "        df_restaurant_info[restaurant_columns[2]].sample(10).mean()\n",
    "    )\n",
    "    sample_means_Hispanic_Index.append(\n",
    "        df_restaurant_info[restaurant_columns[3]].sample(10).mean()\n",
    "    )\n",
    "    sample_means_NonHispanic_Percent.append(\n",
    "        df_restaurant_info[restaurant_columns[5]].sample(10).mean()\n",
    "    )\n",
    "    sample_means_NonHispanic_Index.append(\n",
    "        df_restaurant_info[restaurant_columns[6]].sample(10).mean()\n",
    "    )"
   ]
  },
  {
   "cell_type": "code",
   "execution_count": 8,
   "metadata": {},
   "outputs": [
    {
     "name": "stdout",
     "output_type": "stream",
     "text": [
      "DescribeResult(nobs=100000, minmax=(0.0182, 0.11789999999999998), mean=0.05761691000000001, variance=0.0002921265219171192, skewness=0.30264715179370116, kurtosis=-0.42897933736403804)\n",
      "DescribeResult(nobs=100000, minmax=(0.016300000000000002, 0.08469999999999998), mean=0.047544974000000004, variance=9.846754001472413e-05, skewness=0.21141243530794218, kurtosis=-0.30794930892703887)\n"
     ]
    },
    {
     "data": {
      "image/png": "[encoded data removed]",
      "text/plain": [
       "<Figure size 432x288 with 1 Axes>"
      ]
     },
     "metadata": {
      "needs_background": "light"
     },
     "output_type": "display_data"
    },
    {
     "data": {
      "application/javascript": [
       "\n",
       "            setTimeout(function() {\n",
       "                var nbb_cell_id = 8;\n",
       "                var nbb_unformatted_code = \"plt.hist(sample_means_Hispanic_Percent, alpha=0.5, label=\\\"Hispanic Percent\\\")\\nplt.hist(sample_means_NonHispanic_Percent, alpha=0.5, label=\\\"NonHispanic Percent\\\")\\nprint(stats.describe(sample_means_Hispanic_Percent))\\nprint(stats.describe(sample_means_NonHispanic_Percent))\\nplt.legend()\\nplt.show()\";\n",
       "                var nbb_formatted_code = \"plt.hist(sample_means_Hispanic_Percent, alpha=0.5, label=\\\"Hispanic Percent\\\")\\nplt.hist(sample_means_NonHispanic_Percent, alpha=0.5, label=\\\"NonHispanic Percent\\\")\\nprint(stats.describe(sample_means_Hispanic_Percent))\\nprint(stats.describe(sample_means_NonHispanic_Percent))\\nplt.legend()\\nplt.show()\";\n",
       "                var nbb_cells = Jupyter.notebook.get_cells();\n",
       "                for (var i = 0; i < nbb_cells.length; ++i) {\n",
       "                    if (nbb_cells[i].input_prompt_number == nbb_cell_id) {\n",
       "                        if (nbb_cells[i].get_text() == nbb_unformatted_code) {\n",
       "                             nbb_cells[i].set_text(nbb_formatted_code);\n",
       "                        }\n",
       "                        break;\n",
       "                    }\n",
       "                }\n",
       "            }, 500);\n",
       "            "
      ],
      "text/plain": [
       "<IPython.core.display.Javascript object>"
      ]
     },
     "metadata": {},
     "output_type": "display_data"
    }
   ],
   "source": [
    "plt.hist(sample_means_Hispanic_Percent, alpha=0.5, label=\"Hispanic Percent\")\n",
    "plt.hist(sample_means_NonHispanic_Percent, alpha=0.5, label=\"NonHispanic Percent\")\n",
    "print(stats.describe(sample_means_Hispanic_Percent))\n",
    "print(stats.describe(sample_means_NonHispanic_Percent))\n",
    "plt.legend()\n",
    "plt.show()"
   ]
  },
  {
   "cell_type": "code",
   "execution_count": 9,
   "metadata": {},
   "outputs": [
    {
     "name": "stdout",
     "output_type": "stream",
     "text": [
      "DescribeResult(nobs=100000, minmax=(63.5, 152.8), mean=106.99424700000002, variance=158.67507075369855, skewness=0.22868579354253593, kurtosis=-0.4396913367812969)\n",
      "DescribeResult(nobs=100000, minmax=(83.4, 110.8), mean=97.72076200000001, variance=16.40668640622006, skewness=-0.23570359595036816, kurtosis=-0.42356372583387225)\n"
     ]
    },
    {
     "data": {
      "image/png": "[encoded data removed]",
      "text/plain": [
       "<Figure size 432x288 with 1 Axes>"
      ]
     },
     "metadata": {
      "needs_background": "light"
     },
     "output_type": "display_data"
    },
    {
     "data": {
      "application/javascript": [
       "\n",
       "            setTimeout(function() {\n",
       "                var nbb_cell_id = 9;\n",
       "                var nbb_unformatted_code = \"plt.hist(sample_means_Hispanic_Index, alpha=0.5, label=\\\"Hispanic Index\\\")\\nplt.hist(sample_means_NonHispanic_Index, alpha=0.5, label=\\\"NonHispanic Index\\\")\\nprint(stats.describe(sample_means_Hispanic_Index))\\nprint(stats.describe(sample_means_NonHispanic_Index))\\nplt.legend()\\nplt.show()\";\n",
       "                var nbb_formatted_code = \"plt.hist(sample_means_Hispanic_Index, alpha=0.5, label=\\\"Hispanic Index\\\")\\nplt.hist(sample_means_NonHispanic_Index, alpha=0.5, label=\\\"NonHispanic Index\\\")\\nprint(stats.describe(sample_means_Hispanic_Index))\\nprint(stats.describe(sample_means_NonHispanic_Index))\\nplt.legend()\\nplt.show()\";\n",
       "                var nbb_cells = Jupyter.notebook.get_cells();\n",
       "                for (var i = 0; i < nbb_cells.length; ++i) {\n",
       "                    if (nbb_cells[i].input_prompt_number == nbb_cell_id) {\n",
       "                        if (nbb_cells[i].get_text() == nbb_unformatted_code) {\n",
       "                             nbb_cells[i].set_text(nbb_formatted_code);\n",
       "                        }\n",
       "                        break;\n",
       "                    }\n",
       "                }\n",
       "            }, 500);\n",
       "            "
      ],
      "text/plain": [
       "<IPython.core.display.Javascript object>"
      ]
     },
     "metadata": {},
     "output_type": "display_data"
    }
   ],
   "source": [
    "plt.hist(sample_means_Hispanic_Index, alpha=0.5, label=\"Hispanic Index\")\n",
    "plt.hist(sample_means_NonHispanic_Index, alpha=0.5, label=\"NonHispanic Index\")\n",
    "print(stats.describe(sample_means_Hispanic_Index))\n",
    "print(stats.describe(sample_means_NonHispanic_Index))\n",
    "plt.legend()\n",
    "plt.show()"
   ]
  },
  {
   "cell_type": "markdown",
   "metadata": {},
   "source": [
    "these data sets are sufficiently normal for us to calculate the t-test and confidence intervals:"
   ]
  },
  {
   "cell_type": "code",
   "execution_count": 10,
   "metadata": {},
   "outputs": [
    {
     "name": "stdout",
     "output_type": "stream",
     "text": [
      "Ttest_indResult(statistic=161.15735807494988, pvalue=0.0)\n",
      "Ttest_indResult(statistic=221.6269273979663, pvalue=0.0)\n"
     ]
    },
    {
     "data": {
      "application/javascript": [
       "\n",
       "            setTimeout(function() {\n",
       "                var nbb_cell_id = 10;\n",
       "                var nbb_unformatted_code = \"print(stats.ttest_ind(sample_means_Hispanic_Percent, sample_means_NonHispanic_Percent))\\nprint(stats.ttest_ind(sample_means_Hispanic_Index, sample_means_NonHispanic_Index))\";\n",
       "                var nbb_formatted_code = \"print(stats.ttest_ind(sample_means_Hispanic_Percent, sample_means_NonHispanic_Percent))\\nprint(stats.ttest_ind(sample_means_Hispanic_Index, sample_means_NonHispanic_Index))\";\n",
       "                var nbb_cells = Jupyter.notebook.get_cells();\n",
       "                for (var i = 0; i < nbb_cells.length; ++i) {\n",
       "                    if (nbb_cells[i].input_prompt_number == nbb_cell_id) {\n",
       "                        if (nbb_cells[i].get_text() == nbb_unformatted_code) {\n",
       "                             nbb_cells[i].set_text(nbb_formatted_code);\n",
       "                        }\n",
       "                        break;\n",
       "                    }\n",
       "                }\n",
       "            }, 500);\n",
       "            "
      ],
      "text/plain": [
       "<IPython.core.display.Javascript object>"
      ]
     },
     "metadata": {},
     "output_type": "display_data"
    }
   ],
   "source": [
    "print(stats.ttest_ind(sample_means_Hispanic_Percent, sample_means_NonHispanic_Percent))\n",
    "print(stats.ttest_ind(sample_means_Hispanic_Index, sample_means_NonHispanic_Index))"
   ]
  },
  {
   "cell_type": "markdown",
   "metadata": {},
   "source": [
    "from this we can certainly reject the null in both cases ! Let's see what confidence intervals we have:"
   ]
  },
  {
   "cell_type": "code",
   "execution_count": 11,
   "metadata": {
    "scrolled": true
   },
   "outputs": [
    {
     "name": "stdout",
     "output_type": "stream",
     "text": [
      "Percentage confidence interval: \n",
      "The difference in means at the 95% confidence interval (two-tail) is between -0.0102 and -0.0099.\n",
      "Index to Total Market confidence interval: \n",
      "The difference in means at the 95% confidence interval (two-tail) is between -9.3555 and -9.1915.\n"
     ]
    },
    {
     "data": {
      "application/javascript": [
       "\n",
       "            setTimeout(function() {\n",
       "                var nbb_cell_id = 11;\n",
       "                var nbb_unformatted_code = \"def get_95_ci(array_1, array_2):\\n    sample_1_n = len(array_1)\\n    sample_2_n = len(array_2)\\n    sample_1_mean = np.mean(array_1)\\n    sample_2_mean = np.mean(array_2)\\n    sample_1_var = np.var(array_1)\\n    sample_2_var = np.var(array_2)\\n    mean_difference = sample_2_mean - sample_1_mean\\n    std_err_difference = math.sqrt(\\n        (sample_1_var / sample_1_n) + (sample_2_var / sample_2_n)\\n    )\\n    margin_of_error = 1.96 * std_err_difference\\n    ci_lower = mean_difference - margin_of_error\\n    ci_upper = mean_difference + margin_of_error\\n    return (\\n        \\\"The difference in means at the 95% confidence interval (two-tail) is between \\\"\\n        + str(ci_lower.round(4))\\n        + \\\" and \\\"\\n        + str(ci_upper.round(4))\\n        + \\\".\\\"\\n    )\\n\\n\\nprint(\\\"Percentage confidence interval: \\\")\\nprint(get_95_ci(sample_means_Hispanic_Percent, sample_means_NonHispanic_Percent))\\nprint(\\\"Index to Total Market confidence interval: \\\")\\nprint(get_95_ci(sample_means_Hispanic_Index, sample_means_NonHispanic_Index))\";\n",
       "                var nbb_formatted_code = \"def get_95_ci(array_1, array_2):\\n    sample_1_n = len(array_1)\\n    sample_2_n = len(array_2)\\n    sample_1_mean = np.mean(array_1)\\n    sample_2_mean = np.mean(array_2)\\n    sample_1_var = np.var(array_1)\\n    sample_2_var = np.var(array_2)\\n    mean_difference = sample_2_mean - sample_1_mean\\n    std_err_difference = math.sqrt(\\n        (sample_1_var / sample_1_n) + (sample_2_var / sample_2_n)\\n    )\\n    margin_of_error = 1.96 * std_err_difference\\n    ci_lower = mean_difference - margin_of_error\\n    ci_upper = mean_difference + margin_of_error\\n    return (\\n        \\\"The difference in means at the 95% confidence interval (two-tail) is between \\\"\\n        + str(ci_lower.round(4))\\n        + \\\" and \\\"\\n        + str(ci_upper.round(4))\\n        + \\\".\\\"\\n    )\\n\\n\\nprint(\\\"Percentage confidence interval: \\\")\\nprint(get_95_ci(sample_means_Hispanic_Percent, sample_means_NonHispanic_Percent))\\nprint(\\\"Index to Total Market confidence interval: \\\")\\nprint(get_95_ci(sample_means_Hispanic_Index, sample_means_NonHispanic_Index))\";\n",
       "                var nbb_cells = Jupyter.notebook.get_cells();\n",
       "                for (var i = 0; i < nbb_cells.length; ++i) {\n",
       "                    if (nbb_cells[i].input_prompt_number == nbb_cell_id) {\n",
       "                        if (nbb_cells[i].get_text() == nbb_unformatted_code) {\n",
       "                             nbb_cells[i].set_text(nbb_formatted_code);\n",
       "                        }\n",
       "                        break;\n",
       "                    }\n",
       "                }\n",
       "            }, 500);\n",
       "            "
      ],
      "text/plain": [
       "<IPython.core.display.Javascript object>"
      ]
     },
     "metadata": {},
     "output_type": "display_data"
    }
   ],
   "source": [
    "def get_95_ci(array_1, array_2):\n",
    "    sample_1_n = len(array_1)\n",
    "    sample_2_n = len(array_2)\n",
    "    sample_1_mean = np.mean(array_1)\n",
    "    sample_2_mean = np.mean(array_2)\n",
    "    sample_1_var = np.var(array_1)\n",
    "    sample_2_var = np.var(array_2)\n",
    "    mean_difference = sample_2_mean - sample_1_mean\n",
    "    std_err_difference = math.sqrt(\n",
    "        (sample_1_var / sample_1_n) + (sample_2_var / sample_2_n)\n",
    "    )\n",
    "    margin_of_error = 1.96 * std_err_difference\n",
    "    ci_lower = mean_difference - margin_of_error\n",
    "    ci_upper = mean_difference + margin_of_error\n",
    "    return (\n",
    "        \"The difference in means at the 95% confidence interval (two-tail) is between \"\n",
    "        + str(ci_lower.round(4))\n",
    "        + \" and \"\n",
    "        + str(ci_upper.round(4))\n",
    "        + \".\"\n",
    "    )\n",
    "\n",
    "\n",
    "print(\"Percentage confidence interval: \")\n",
    "print(get_95_ci(sample_means_Hispanic_Percent, sample_means_NonHispanic_Percent))\n",
    "print(\"Index to Total Market confidence interval: \")\n",
    "print(get_95_ci(sample_means_Hispanic_Index, sample_means_NonHispanic_Index))"
   ]
  },
  {
   "cell_type": "markdown",
   "metadata": {},
   "source": [
    "##### Result"
   ]
  },
  {
   "cell_type": "markdown",
   "metadata": {},
   "source": [
    "The data was not normally distributed, so a re-sampling technique was utilized to move forward with the t-test. Given the resulting p-value of zero, the null hypothesis may be rejected and thus there is some difference in the turn-out of Hispanics vs. Non-Hispanics at sit-down restaurants in Univision City.\n",
    "\n",
    "The 95% confidence interval suggests that the difference in percentages of people who are Hispanic vs. Non-Hispanic will be between 1.00% and 1.08%, and the Total Index to Market is higher in the Hispanic Population over Non-Hispanic population by 8.988 to 9.504 Index points. \n",
    "\n",
    "These statistics imply that restaurants in general in Univision City are more popular amongst the Hispanic population, as opposed to the Non-Hispanic population. "
   ]
  },
  {
   "cell_type": "markdown",
   "metadata": {},
   "source": [
    "### Hypothesis 2:"
   ]
  },
  {
   "cell_type": "markdown",
   "metadata": {},
   "source": [
    "#### Method"
   ]
  },
  {
   "cell_type": "markdown",
   "metadata": {},
   "source": [
    "For this hypothesis, we will use the df_restaurant_spending dataframe in conjunction with the df_restaurant_info dataframe to draw conclusions about the effectiveness of advertising with Univision City. We will filter out restaurants which do not have Mexican or Italian entrees on their menu, so that our analysis will more accurately predict the expectations for Chaz's:\n"
   ]
  },
  {
   "cell_type": "code",
   "execution_count": 12,
   "metadata": {},
   "outputs": [
    {
     "data": {
      "application/javascript": [
       "\n",
       "            setTimeout(function() {\n",
       "                var nbb_cell_id = 12;\n",
       "                var nbb_unformatted_code = \"mexitalian_restaurants = [\\n    \\\"Buca di Beppo\\\",\\n    \\\"California Pizza Kitchen\\\",\\n    \\\"Mellow Mushroom\\\",\\n    \\\"Carrabba's Italian Grill\\\",\\n    \\\"Olive Garden\\\",\\n    \\\"Oregano's Pizza Bistro\\\",\\n    \\\"Postino\\\",\\n    \\\"Sweet Tomatoes\\\",\\n    \\\"Macayo's\\\",\\n]\\n\\ndf_mexitalian_restaurant_info = df_restaurant_info[\\n    df_restaurant_info[restaurant_columns[0]].isin(mexitalian_restaurants)\\n]\\n\\ndf_mexitalian_restaurant_advertising_spending = df_restaurant_advertising_spending[\\n    df_restaurant_advertising_spending['Restaurant'].isin(mexitalian_restaurants)\\n]\";\n",
       "                var nbb_formatted_code = \"mexitalian_restaurants = [\\n    \\\"Buca di Beppo\\\",\\n    \\\"California Pizza Kitchen\\\",\\n    \\\"Mellow Mushroom\\\",\\n    \\\"Carrabba's Italian Grill\\\",\\n    \\\"Olive Garden\\\",\\n    \\\"Oregano's Pizza Bistro\\\",\\n    \\\"Postino\\\",\\n    \\\"Sweet Tomatoes\\\",\\n    \\\"Macayo's\\\",\\n]\\n\\ndf_mexitalian_restaurant_info = df_restaurant_info[\\n    df_restaurant_info[restaurant_columns[0]].isin(mexitalian_restaurants)\\n]\\n\\ndf_mexitalian_restaurant_advertising_spending = df_restaurant_advertising_spending[\\n    df_restaurant_advertising_spending[\\\"Restaurant\\\"].isin(mexitalian_restaurants)\\n]\";\n",
       "                var nbb_cells = Jupyter.notebook.get_cells();\n",
       "                for (var i = 0; i < nbb_cells.length; ++i) {\n",
       "                    if (nbb_cells[i].input_prompt_number == nbb_cell_id) {\n",
       "                        if (nbb_cells[i].get_text() == nbb_unformatted_code) {\n",
       "                             nbb_cells[i].set_text(nbb_formatted_code);\n",
       "                        }\n",
       "                        break;\n",
       "                    }\n",
       "                }\n",
       "            }, 500);\n",
       "            "
      ],
      "text/plain": [
       "<IPython.core.display.Javascript object>"
      ]
     },
     "metadata": {},
     "output_type": "display_data"
    }
   ],
   "source": [
    "mexitalian_restaurants = [\n",
    "    \"Buca di Beppo\",\n",
    "    \"California Pizza Kitchen\",\n",
    "    \"Mellow Mushroom\",\n",
    "    \"Carrabba's Italian Grill\",\n",
    "    \"Olive Garden\",\n",
    "    \"Oregano's Pizza Bistro\",\n",
    "    \"Postino\",\n",
    "    \"Sweet Tomatoes\",\n",
    "    \"Macayo's\",\n",
    "]\n",
    "\n",
    "df_mexitalian_restaurant_info = df_restaurant_info[\n",
    "    df_restaurant_info[restaurant_columns[0]].isin(mexitalian_restaurants)\n",
    "]\n",
    "\n",
    "df_mexitalian_restaurant_advertising_spending = df_restaurant_advertising_spending[\n",
    "    df_restaurant_advertising_spending['Restaurant'].isin(mexitalian_restaurants)\n",
    "]\n",
    "\n"
   ]
  },
  {
   "cell_type": "code",
   "execution_count": 13,
   "metadata": {},
   "outputs": [
    {
     "data": {
      "text/html": [
       "<div>\n",
       "<style scoped>\n",
       "    .dataframe tbody tr th:only-of-type {\n",
       "        vertical-align: middle;\n",
       "    }\n",
       "\n",
       "    .dataframe tbody tr th {\n",
       "        vertical-align: top;\n",
       "    }\n",
       "\n",
       "    .dataframe thead th {\n",
       "        text-align: right;\n",
       "    }\n",
       "</style>\n",
       "<table border=\"1\" class=\"dataframe\">\n",
       "  <thead>\n",
       "    <tr style=\"text-align: right;\">\n",
       "      <th></th>\n",
       "      <th>Sit Down Restaurants used in the Past 6 Months (Among Adults Age 18+)</th>\n",
       "      <th># of Hispanics</th>\n",
       "      <th>% of Hispanics</th>\n",
       "      <th>Hispanic Index to Total Market</th>\n",
       "      <th># of Non-Hispanics</th>\n",
       "      <th>% of Non-Hispanics</th>\n",
       "      <th>Non-Hispanic Index to Total Market</th>\n",
       "    </tr>\n",
       "  </thead>\n",
       "  <tbody>\n",
       "    <tr>\n",
       "      <th>2</th>\n",
       "      <td>Buca di Beppo</td>\n",
       "      <td>21706</td>\n",
       "      <td>0.023</td>\n",
       "      <td>141</td>\n",
       "      <td>41627</td>\n",
       "      <td>0.013</td>\n",
       "      <td>87</td>\n",
       "    </tr>\n",
       "    <tr>\n",
       "      <th>3</th>\n",
       "      <td>California Pizza Kitchen</td>\n",
       "      <td>13581</td>\n",
       "      <td>0.015</td>\n",
       "      <td>62</td>\n",
       "      <td>76284</td>\n",
       "      <td>0.023</td>\n",
       "      <td>112</td>\n",
       "    </tr>\n",
       "    <tr>\n",
       "      <th>4</th>\n",
       "      <td>Carrabba's Italian Grill</td>\n",
       "      <td>34180</td>\n",
       "      <td>0.034</td>\n",
       "      <td>135</td>\n",
       "      <td>70243</td>\n",
       "      <td>0.021</td>\n",
       "      <td>89</td>\n",
       "    </tr>\n",
       "    <tr>\n",
       "      <th>16</th>\n",
       "      <td>Macayo's</td>\n",
       "      <td>25509</td>\n",
       "      <td>0.024</td>\n",
       "      <td>95</td>\n",
       "      <td>85221</td>\n",
       "      <td>0.026</td>\n",
       "      <td>102</td>\n",
       "    </tr>\n",
       "    <tr>\n",
       "      <th>17</th>\n",
       "      <td>Mellow Mushroom</td>\n",
       "      <td>11394</td>\n",
       "      <td>0.011</td>\n",
       "      <td>146</td>\n",
       "      <td>20769</td>\n",
       "      <td>0.006</td>\n",
       "      <td>85</td>\n",
       "    </tr>\n",
       "    <tr>\n",
       "      <th>19</th>\n",
       "      <td>Olive Garden</td>\n",
       "      <td>297583</td>\n",
       "      <td>0.284</td>\n",
       "      <td>142</td>\n",
       "      <td>566018</td>\n",
       "      <td>0.172</td>\n",
       "      <td>87</td>\n",
       "    </tr>\n",
       "    <tr>\n",
       "      <th>20</th>\n",
       "      <td>Oregano's Pizza Bistro</td>\n",
       "      <td>65465</td>\n",
       "      <td>0.062</td>\n",
       "      <td>112</td>\n",
       "      <td>175503</td>\n",
       "      <td>0.053</td>\n",
       "      <td>96</td>\n",
       "    </tr>\n",
       "    <tr>\n",
       "      <th>24</th>\n",
       "      <td>Postino</td>\n",
       "      <td>10075</td>\n",
       "      <td>0.010</td>\n",
       "      <td>47</td>\n",
       "      <td>78871</td>\n",
       "      <td>0.024</td>\n",
       "      <td>117</td>\n",
       "    </tr>\n",
       "    <tr>\n",
       "      <th>28</th>\n",
       "      <td>Sweet Tomatoes</td>\n",
       "      <td>27421</td>\n",
       "      <td>0.026</td>\n",
       "      <td>59</td>\n",
       "      <td>162795</td>\n",
       "      <td>0.049</td>\n",
       "      <td>113</td>\n",
       "    </tr>\n",
       "  </tbody>\n",
       "</table>\n",
       "</div>"
      ],
      "text/plain": [
       "   Sit Down Restaurants used in the Past 6 Months (Among Adults Age 18+)   \\\n",
       "2                                       Buca di Beppo                       \n",
       "3                            California Pizza Kitchen                       \n",
       "4                            Carrabba's Italian Grill                       \n",
       "16                                           Macayo's                       \n",
       "17                                    Mellow Mushroom                       \n",
       "19                                       Olive Garden                       \n",
       "20                             Oregano's Pizza Bistro                       \n",
       "24                                            Postino                       \n",
       "28                                     Sweet Tomatoes                       \n",
       "\n",
       "    # of Hispanics  % of Hispanics  Hispanic Index to Total Market  \\\n",
       "2            21706           0.023                             141   \n",
       "3            13581           0.015                              62   \n",
       "4            34180           0.034                             135   \n",
       "16           25509           0.024                              95   \n",
       "17           11394           0.011                             146   \n",
       "19          297583           0.284                             142   \n",
       "20           65465           0.062                             112   \n",
       "24           10075           0.010                              47   \n",
       "28           27421           0.026                              59   \n",
       "\n",
       "    # of Non-Hispanics  % of Non-Hispanics  Non-Hispanic Index to Total Market  \n",
       "2                41627               0.013                                  87  \n",
       "3                76284               0.023                                 112  \n",
       "4                70243               0.021                                  89  \n",
       "16               85221               0.026                                 102  \n",
       "17               20769               0.006                                  85  \n",
       "19              566018               0.172                                  87  \n",
       "20              175503               0.053                                  96  \n",
       "24               78871               0.024                                 117  \n",
       "28              162795               0.049                                 113  "
      ]
     },
     "execution_count": 13,
     "metadata": {},
     "output_type": "execute_result"
    },
    {
     "data": {
      "application/javascript": [
       "\n",
       "            setTimeout(function() {\n",
       "                var nbb_cell_id = 13;\n",
       "                var nbb_unformatted_code = \"df_mexitalian_restaurant_info.head(10)\";\n",
       "                var nbb_formatted_code = \"df_mexitalian_restaurant_info.head(10)\";\n",
       "                var nbb_cells = Jupyter.notebook.get_cells();\n",
       "                for (var i = 0; i < nbb_cells.length; ++i) {\n",
       "                    if (nbb_cells[i].input_prompt_number == nbb_cell_id) {\n",
       "                        if (nbb_cells[i].get_text() == nbb_unformatted_code) {\n",
       "                             nbb_cells[i].set_text(nbb_formatted_code);\n",
       "                        }\n",
       "                        break;\n",
       "                    }\n",
       "                }\n",
       "            }, 500);\n",
       "            "
      ],
      "text/plain": [
       "<IPython.core.display.Javascript object>"
      ]
     },
     "metadata": {},
     "output_type": "display_data"
    }
   ],
   "source": [
    "df_mexitalian_restaurant_info.head(10)"
   ]
  },
  {
   "cell_type": "code",
   "execution_count": 14,
   "metadata": {},
   "outputs": [
    {
     "data": {
      "text/html": [
       "<div>\n",
       "<style scoped>\n",
       "    .dataframe tbody tr th:only-of-type {\n",
       "        vertical-align: middle;\n",
       "    }\n",
       "\n",
       "    .dataframe tbody tr th {\n",
       "        vertical-align: top;\n",
       "    }\n",
       "\n",
       "    .dataframe thead th {\n",
       "        text-align: right;\n",
       "    }\n",
       "</style>\n",
       "<table border=\"1\" class=\"dataframe\">\n",
       "  <thead>\n",
       "    <tr style=\"text-align: right;\">\n",
       "      <th></th>\n",
       "      <th>Restaurant</th>\n",
       "      <th>Amount Spent on Advertising</th>\n",
       "    </tr>\n",
       "  </thead>\n",
       "  <tbody>\n",
       "    <tr>\n",
       "      <th>0</th>\n",
       "      <td>Buca di Beppo</td>\n",
       "      <td>312723</td>\n",
       "    </tr>\n",
       "    <tr>\n",
       "      <th>1</th>\n",
       "      <td>Carrabba's Italian Grill</td>\n",
       "      <td>129783</td>\n",
       "    </tr>\n",
       "    <tr>\n",
       "      <th>5</th>\n",
       "      <td>Olive Garden</td>\n",
       "      <td>103679</td>\n",
       "    </tr>\n",
       "    <tr>\n",
       "      <th>6</th>\n",
       "      <td>Oregano's Pizza Bistro</td>\n",
       "      <td>94048</td>\n",
       "    </tr>\n",
       "  </tbody>\n",
       "</table>\n",
       "</div>"
      ],
      "text/plain": [
       "                 Restaurant  Amount Spent on Advertising \n",
       "0             Buca di Beppo                        312723\n",
       "1  Carrabba's Italian Grill                        129783\n",
       "5              Olive Garden                        103679\n",
       "6    Oregano's Pizza Bistro                         94048"
      ]
     },
     "execution_count": 14,
     "metadata": {},
     "output_type": "execute_result"
    },
    {
     "data": {
      "application/javascript": [
       "\n",
       "            setTimeout(function() {\n",
       "                var nbb_cell_id = 14;\n",
       "                var nbb_unformatted_code = \"df_mexitalian_restaurant_advertising_spending.head(10)\";\n",
       "                var nbb_formatted_code = \"df_mexitalian_restaurant_advertising_spending.head(10)\";\n",
       "                var nbb_cells = Jupyter.notebook.get_cells();\n",
       "                for (var i = 0; i < nbb_cells.length; ++i) {\n",
       "                    if (nbb_cells[i].input_prompt_number == nbb_cell_id) {\n",
       "                        if (nbb_cells[i].get_text() == nbb_unformatted_code) {\n",
       "                             nbb_cells[i].set_text(nbb_formatted_code);\n",
       "                        }\n",
       "                        break;\n",
       "                    }\n",
       "                }\n",
       "            }, 500);\n",
       "            "
      ],
      "text/plain": [
       "<IPython.core.display.Javascript object>"
      ]
     },
     "metadata": {},
     "output_type": "display_data"
    }
   ],
   "source": [
    "df_mexitalian_restaurant_advertising_spending.head(10)"
   ]
  },
  {
   "cell_type": "markdown",
   "metadata": {},
   "source": [
    "calculate the mean percentage of Hispanics who go to a restaurant that serves Mexican and/or Italian entrees:"
   ]
  },
  {
   "cell_type": "code",
   "execution_count": 15,
   "metadata": {},
   "outputs": [
    {
     "data": {
      "text/plain": [
       "0.05433333333333333"
      ]
     },
     "execution_count": 15,
     "metadata": {},
     "output_type": "execute_result"
    },
    {
     "data": {
      "application/javascript": [
       "\n",
       "            setTimeout(function() {\n",
       "                var nbb_cell_id = 15;\n",
       "                var nbb_unformatted_code = \"df_mexitalian_restaurant_info[restaurant_columns[2]].mean()\";\n",
       "                var nbb_formatted_code = \"df_mexitalian_restaurant_info[restaurant_columns[2]].mean()\";\n",
       "                var nbb_cells = Jupyter.notebook.get_cells();\n",
       "                for (var i = 0; i < nbb_cells.length; ++i) {\n",
       "                    if (nbb_cells[i].input_prompt_number == nbb_cell_id) {\n",
       "                        if (nbb_cells[i].get_text() == nbb_unformatted_code) {\n",
       "                             nbb_cells[i].set_text(nbb_formatted_code);\n",
       "                        }\n",
       "                        break;\n",
       "                    }\n",
       "                }\n",
       "            }, 500);\n",
       "            "
      ],
      "text/plain": [
       "<IPython.core.display.Javascript object>"
      ]
     },
     "metadata": {},
     "output_type": "display_data"
    }
   ],
   "source": [
    "df_mexitalian_restaurant_info[restaurant_columns[2]].mean()"
   ]
  },
  {
   "cell_type": "markdown",
   "metadata": {},
   "source": [
    "We will make an estimate of the cost of an average household in Univision City, based on the given data, and an estimate for the average cost of a taco dish at Mexican restaurants in the US, according to modernrestaurantmanagement.com, which is \\\\$11.28. \n",
    "From the data given, 48\\% of Hispanic households have one or more children, and we will estimate that a child eats half as much as an adult, so the average entree cost for any client will be calculated as mean(11.28,5.64,5.64), which is \\\\$7.52, a reasonable estimate.\n"
   ]
  },
  {
   "attachments": {
    "children_in_household.png": {
     "image/png": "[encoded data removed]"
    }
   },
   "cell_type": "markdown",
   "metadata": {},
   "source": [
    "![children_in_household.png](attachment:children_in_household.png)"
   ]
  },
  {
   "cell_type": "markdown",
   "metadata": {},
   "source": [
    "From the above analysis, we can remember that the mean % of Hispanics who ate at any given restaurant in Univision city was 5.43%. Therefore, we can estimate the total number of entrees purchased by the Hispanic population, and thus the total revenue from the Hispanic population by multiplying this with the average entree cost above. \n",
    "\n",
    "Lisa has provided data about the average household size in the Hispanic population, as well as an indication of how many times Hispanics go out to eat in general:"
   ]
  },
  {
   "cell_type": "markdown",
   "metadata": {},
   "source": [
    "##### frequency of dining in at restaurants"
   ]
  },
  {
   "attachments": {
    "restaurant_frequency.png": {
     "image/png": "[encoded data removed]"
    }
   },
   "cell_type": "markdown",
   "metadata": {},
   "source": [
    "![restaurant_frequency.png](attachment:restaurant_frequency.png)"
   ]
  },
  {
   "cell_type": "markdown",
   "metadata": {},
   "source": [
    "##### average household size"
   ]
  },
  {
   "attachments": {
    "household_size.png": {
     "image/png": "[encoded data removed]"
    }
   },
   "cell_type": "markdown",
   "metadata": {},
   "source": [
    "![household_size.png](attachment:household_size.png)"
   ]
  },
  {
   "cell_type": "markdown",
   "metadata": {},
   "source": [
    "##### clientele at dine-in restaurants population size"
   ]
  },
  {
   "attachments": {
    "hispanicpop.png": {
     "image/png": "[encoded data removed]"
    }
   },
   "cell_type": "markdown",
   "metadata": {},
   "source": [
    "![hispanicpop.png](attachment:hispanicpop.png)"
   ]
  },
  {
   "cell_type": "markdown",
   "metadata": {},
   "source": [
    "So, we can make an estimate of the number of entrees sold at a dine-in restaurant in Univision City in 2019 as follows:\n",
    "(192,503*(5-1))+(164,868*(10-1))+ 828,786 = 3,082,610 entrees"
   ]
  },
  {
   "cell_type": "code",
   "execution_count": 16,
   "metadata": {},
   "outputs": [
    {
     "data": {
      "text/plain": [
       "3082610"
      ]
     },
     "execution_count": 16,
     "metadata": {},
     "output_type": "execute_result"
    },
    {
     "data": {
      "application/javascript": [
       "\n",
       "            setTimeout(function() {\n",
       "                var nbb_cell_id = 16;\n",
       "                var nbb_unformatted_code = \"192503 * 4 + 164868 * 9 + 828786\";\n",
       "                var nbb_formatted_code = \"192503 * 4 + 164868 * 9 + 828786\";\n",
       "                var nbb_cells = Jupyter.notebook.get_cells();\n",
       "                for (var i = 0; i < nbb_cells.length; ++i) {\n",
       "                    if (nbb_cells[i].input_prompt_number == nbb_cell_id) {\n",
       "                        if (nbb_cells[i].get_text() == nbb_unformatted_code) {\n",
       "                             nbb_cells[i].set_text(nbb_formatted_code);\n",
       "                        }\n",
       "                        break;\n",
       "                    }\n",
       "                }\n",
       "            }, 500);\n",
       "            "
      ],
      "text/plain": [
       "<IPython.core.display.Javascript object>"
      ]
     },
     "metadata": {},
     "output_type": "display_data"
    }
   ],
   "source": [
    "192503 * 4 + 164868 * 9 + 828786"
   ]
  },
  {
   "cell_type": "markdown",
   "metadata": {},
   "source": [
    "We then get the average entrees ordered at any given restaurant by taking the total entrees & multiplying by the mean percentage of Hispanics who ate at a given single restaurant in Univision City:"
   ]
  },
  {
   "cell_type": "code",
   "execution_count": 17,
   "metadata": {},
   "outputs": [
    {
     "data": {
      "text/plain": [
       "167385.723"
      ]
     },
     "execution_count": 17,
     "metadata": {},
     "output_type": "execute_result"
    },
    {
     "data": {
      "application/javascript": [
       "\n",
       "            setTimeout(function() {\n",
       "                var nbb_cell_id = 17;\n",
       "                var nbb_unformatted_code = \"3082610 * 0.0543\";\n",
       "                var nbb_formatted_code = \"3082610 * 0.0543\";\n",
       "                var nbb_cells = Jupyter.notebook.get_cells();\n",
       "                for (var i = 0; i < nbb_cells.length; ++i) {\n",
       "                    if (nbb_cells[i].input_prompt_number == nbb_cell_id) {\n",
       "                        if (nbb_cells[i].get_text() == nbb_unformatted_code) {\n",
       "                             nbb_cells[i].set_text(nbb_formatted_code);\n",
       "                        }\n",
       "                        break;\n",
       "                    }\n",
       "                }\n",
       "            }, 500);\n",
       "            "
      ],
      "text/plain": [
       "<IPython.core.display.Javascript object>"
      ]
     },
     "metadata": {},
     "output_type": "display_data"
    }
   ],
   "source": [
    "3082610 * 0.0543"
   ]
  },
  {
   "cell_type": "markdown",
   "metadata": {},
   "source": [
    "So, a restaurant in Univision City can expect to generate 167,385 * \\\\$7.52 = \\\\$1,258,735.20 from the Hispanic population\n",
    "\n"
   ]
  },
  {
   "cell_type": "code",
   "execution_count": 18,
   "metadata": {},
   "outputs": [
    {
     "data": {
      "text/plain": [
       "1258735.2"
      ]
     },
     "execution_count": 18,
     "metadata": {},
     "output_type": "execute_result"
    },
    {
     "data": {
      "application/javascript": [
       "\n",
       "            setTimeout(function() {\n",
       "                var nbb_cell_id = 18;\n",
       "                var nbb_unformatted_code = \"167385 * 7.52\";\n",
       "                var nbb_formatted_code = \"167385 * 7.52\";\n",
       "                var nbb_cells = Jupyter.notebook.get_cells();\n",
       "                for (var i = 0; i < nbb_cells.length; ++i) {\n",
       "                    if (nbb_cells[i].input_prompt_number == nbb_cell_id) {\n",
       "                        if (nbb_cells[i].get_text() == nbb_unformatted_code) {\n",
       "                             nbb_cells[i].set_text(nbb_formatted_code);\n",
       "                        }\n",
       "                        break;\n",
       "                    }\n",
       "                }\n",
       "            }, 500);\n",
       "            "
      ],
      "text/plain": [
       "<IPython.core.display.Javascript object>"
      ]
     },
     "metadata": {},
     "output_type": "display_data"
    }
   ],
   "source": [
    "167385 * 7.52"
   ]
  },
  {
   "cell_type": "markdown",
   "metadata": {},
   "source": [
    "Now, we compare this with the average amount spent on advertising by a restaurant in Univision City using the df_univision_city_restaurant_spending dataframe"
   ]
  },
  {
   "cell_type": "code",
   "execution_count": 19,
   "metadata": {},
   "outputs": [
    {
     "data": {
      "text/html": [
       "<div>\n",
       "<style scoped>\n",
       "    .dataframe tbody tr th:only-of-type {\n",
       "        vertical-align: middle;\n",
       "    }\n",
       "\n",
       "    .dataframe tbody tr th {\n",
       "        vertical-align: top;\n",
       "    }\n",
       "\n",
       "    .dataframe thead th {\n",
       "        text-align: right;\n",
       "    }\n",
       "</style>\n",
       "<table border=\"1\" class=\"dataframe\">\n",
       "  <thead>\n",
       "    <tr style=\"text-align: right;\">\n",
       "      <th></th>\n",
       "      <th>Restaurant</th>\n",
       "      <th>Amount Spent on Advertising</th>\n",
       "    </tr>\n",
       "  </thead>\n",
       "  <tbody>\n",
       "    <tr>\n",
       "      <th>0</th>\n",
       "      <td>Buca di Beppo</td>\n",
       "      <td>312723</td>\n",
       "    </tr>\n",
       "    <tr>\n",
       "      <th>1</th>\n",
       "      <td>Carrabba's Italian Grill</td>\n",
       "      <td>129783</td>\n",
       "    </tr>\n",
       "    <tr>\n",
       "      <th>5</th>\n",
       "      <td>Olive Garden</td>\n",
       "      <td>103679</td>\n",
       "    </tr>\n",
       "    <tr>\n",
       "      <th>6</th>\n",
       "      <td>Oregano's Pizza Bistro</td>\n",
       "      <td>94048</td>\n",
       "    </tr>\n",
       "  </tbody>\n",
       "</table>\n",
       "</div>"
      ],
      "text/plain": [
       "                 Restaurant  Amount Spent on Advertising \n",
       "0             Buca di Beppo                        312723\n",
       "1  Carrabba's Italian Grill                        129783\n",
       "5              Olive Garden                        103679\n",
       "6    Oregano's Pizza Bistro                         94048"
      ]
     },
     "execution_count": 19,
     "metadata": {},
     "output_type": "execute_result"
    },
    {
     "data": {
      "application/javascript": [
       "\n",
       "            setTimeout(function() {\n",
       "                var nbb_cell_id = 19;\n",
       "                var nbb_unformatted_code = \"df_mexitalian_restaurant_advertising_spending.head()\";\n",
       "                var nbb_formatted_code = \"df_mexitalian_restaurant_advertising_spending.head()\";\n",
       "                var nbb_cells = Jupyter.notebook.get_cells();\n",
       "                for (var i = 0; i < nbb_cells.length; ++i) {\n",
       "                    if (nbb_cells[i].input_prompt_number == nbb_cell_id) {\n",
       "                        if (nbb_cells[i].get_text() == nbb_unformatted_code) {\n",
       "                             nbb_cells[i].set_text(nbb_formatted_code);\n",
       "                        }\n",
       "                        break;\n",
       "                    }\n",
       "                }\n",
       "            }, 500);\n",
       "            "
      ],
      "text/plain": [
       "<IPython.core.display.Javascript object>"
      ]
     },
     "metadata": {},
     "output_type": "display_data"
    }
   ],
   "source": [
    "df_mexitalian_restaurant_advertising_spending.head()"
   ]
  },
  {
   "cell_type": "code",
   "execution_count": 20,
   "metadata": {},
   "outputs": [
    {
     "data": {
      "text/plain": [
       "160058.25"
      ]
     },
     "execution_count": 20,
     "metadata": {},
     "output_type": "execute_result"
    },
    {
     "data": {
      "application/javascript": [
       "\n",
       "            setTimeout(function() {\n",
       "                var nbb_cell_id = 20;\n",
       "                var nbb_unformatted_code = \"df_mexitalian_restaurant_advertising_spending[\\\"Amount Spent on Advertising \\\"].mean()\";\n",
       "                var nbb_formatted_code = \"df_mexitalian_restaurant_advertising_spending[\\\"Amount Spent on Advertising \\\"].mean()\";\n",
       "                var nbb_cells = Jupyter.notebook.get_cells();\n",
       "                for (var i = 0; i < nbb_cells.length; ++i) {\n",
       "                    if (nbb_cells[i].input_prompt_number == nbb_cell_id) {\n",
       "                        if (nbb_cells[i].get_text() == nbb_unformatted_code) {\n",
       "                             nbb_cells[i].set_text(nbb_formatted_code);\n",
       "                        }\n",
       "                        break;\n",
       "                    }\n",
       "                }\n",
       "            }, 500);\n",
       "            "
      ],
      "text/plain": [
       "<IPython.core.display.Javascript object>"
      ]
     },
     "metadata": {},
     "output_type": "display_data"
    }
   ],
   "source": [
    "df_mexitalian_restaurant_advertising_spending[\"Amount Spent on Advertising \"].mean()"
   ]
  },
  {
   "cell_type": "code",
   "execution_count": 21,
   "metadata": {},
   "outputs": [
    {
     "data": {
      "text/plain": [
       "7.864231928063689"
      ]
     },
     "execution_count": 21,
     "metadata": {},
     "output_type": "execute_result"
    },
    {
     "data": {
      "application/javascript": [
       "\n",
       "            setTimeout(function() {\n",
       "                var nbb_cell_id = 21;\n",
       "                var nbb_unformatted_code = \"1258735.2 / 160058.25\";\n",
       "                var nbb_formatted_code = \"1258735.2 / 160058.25\";\n",
       "                var nbb_cells = Jupyter.notebook.get_cells();\n",
       "                for (var i = 0; i < nbb_cells.length; ++i) {\n",
       "                    if (nbb_cells[i].input_prompt_number == nbb_cell_id) {\n",
       "                        if (nbb_cells[i].get_text() == nbb_unformatted_code) {\n",
       "                             nbb_cells[i].set_text(nbb_formatted_code);\n",
       "                        }\n",
       "                        break;\n",
       "                    }\n",
       "                }\n",
       "            }, 500);\n",
       "            "
      ],
      "text/plain": [
       "<IPython.core.display.Javascript object>"
      ]
     },
     "metadata": {},
     "output_type": "display_data"
    }
   ],
   "source": [
    "1258735.2 / 160058.25"
   ]
  },
  {
   "cell_type": "markdown",
   "metadata": {},
   "source": [
    "So, our analysis reveals that the average Mexitalian restaurant in Univision City could expect to bring in \\\\$1,258,735.20 in revenue from the Hispanic population, while only spending on average \\\\$160,058.25 on advertising with Univision TV, apparently reaching plenty of potential hungry customers. This represents an 786% average return on investment for a Mexitalian Restaurant, in this sense. "
   ]
  },
  {
   "cell_type": "markdown",
   "metadata": {},
   "source": [
    "Lastly, we present one specific case example of a specific restaurant who advertises with Univision TV and experiences a huge turnout from the Hispanic population of restaurant-goers: Olive Garden"
   ]
  },
  {
   "cell_type": "code",
   "execution_count": 22,
   "metadata": {
    "scrolled": true
   },
   "outputs": [
    {
     "data": {
      "text/html": [
       "<div>\n",
       "<style scoped>\n",
       "    .dataframe tbody tr th:only-of-type {\n",
       "        vertical-align: middle;\n",
       "    }\n",
       "\n",
       "    .dataframe tbody tr th {\n",
       "        vertical-align: top;\n",
       "    }\n",
       "\n",
       "    .dataframe thead th {\n",
       "        text-align: right;\n",
       "    }\n",
       "</style>\n",
       "<table border=\"1\" class=\"dataframe\">\n",
       "  <thead>\n",
       "    <tr style=\"text-align: right;\">\n",
       "      <th></th>\n",
       "      <th>Sit Down Restaurants used in the Past 6 Months (Among Adults Age 18+)</th>\n",
       "      <th># of Hispanics</th>\n",
       "      <th>% of Hispanics</th>\n",
       "      <th>Hispanic Index to Total Market</th>\n",
       "      <th># of Non-Hispanics</th>\n",
       "      <th>% of Non-Hispanics</th>\n",
       "      <th>Non-Hispanic Index to Total Market</th>\n",
       "    </tr>\n",
       "  </thead>\n",
       "  <tbody>\n",
       "    <tr>\n",
       "      <th>19</th>\n",
       "      <td>Olive Garden</td>\n",
       "      <td>297583</td>\n",
       "      <td>0.284</td>\n",
       "      <td>142</td>\n",
       "      <td>566018</td>\n",
       "      <td>0.172</td>\n",
       "      <td>87</td>\n",
       "    </tr>\n",
       "  </tbody>\n",
       "</table>\n",
       "</div>"
      ],
      "text/plain": [
       "   Sit Down Restaurants used in the Past 6 Months (Among Adults Age 18+)   \\\n",
       "19                                       Olive Garden                       \n",
       "\n",
       "    # of Hispanics  % of Hispanics  Hispanic Index to Total Market  \\\n",
       "19          297583           0.284                             142   \n",
       "\n",
       "    # of Non-Hispanics  % of Non-Hispanics  Non-Hispanic Index to Total Market  \n",
       "19              566018               0.172                                  87  "
      ]
     },
     "execution_count": 22,
     "metadata": {},
     "output_type": "execute_result"
    },
    {
     "data": {
      "application/javascript": [
       "\n",
       "            setTimeout(function() {\n",
       "                var nbb_cell_id = 22;\n",
       "                var nbb_unformatted_code = \"df_restaurant_info[df_restaurant_info[restaurant_columns[0]] == \\\"Olive Garden\\\"]\";\n",
       "                var nbb_formatted_code = \"df_restaurant_info[df_restaurant_info[restaurant_columns[0]] == \\\"Olive Garden\\\"]\";\n",
       "                var nbb_cells = Jupyter.notebook.get_cells();\n",
       "                for (var i = 0; i < nbb_cells.length; ++i) {\n",
       "                    if (nbb_cells[i].input_prompt_number == nbb_cell_id) {\n",
       "                        if (nbb_cells[i].get_text() == nbb_unformatted_code) {\n",
       "                             nbb_cells[i].set_text(nbb_formatted_code);\n",
       "                        }\n",
       "                        break;\n",
       "                    }\n",
       "                }\n",
       "            }, 500);\n",
       "            "
      ],
      "text/plain": [
       "<IPython.core.display.Javascript object>"
      ]
     },
     "metadata": {},
     "output_type": "display_data"
    }
   ],
   "source": [
    "df_restaurant_info[df_restaurant_info[restaurant_columns[0]] == \"Olive Garden\"]"
   ]
  },
  {
   "cell_type": "code",
   "execution_count": 23,
   "metadata": {},
   "outputs": [
    {
     "data": {
      "text/plain": [
       "2243775.82"
      ]
     },
     "execution_count": 23,
     "metadata": {},
     "output_type": "execute_result"
    },
    {
     "data": {
      "application/javascript": [
       "\n",
       "            setTimeout(function() {\n",
       "                var nbb_cell_id = 23;\n",
       "                var nbb_unformatted_code = \"297583 * 7.54\";\n",
       "                var nbb_formatted_code = \"297583 * 7.54\";\n",
       "                var nbb_cells = Jupyter.notebook.get_cells();\n",
       "                for (var i = 0; i < nbb_cells.length; ++i) {\n",
       "                    if (nbb_cells[i].input_prompt_number == nbb_cell_id) {\n",
       "                        if (nbb_cells[i].get_text() == nbb_unformatted_code) {\n",
       "                             nbb_cells[i].set_text(nbb_formatted_code);\n",
       "                        }\n",
       "                        break;\n",
       "                    }\n",
       "                }\n",
       "            }, 500);\n",
       "            "
      ],
      "text/plain": [
       "<IPython.core.display.Javascript object>"
      ]
     },
     "metadata": {},
     "output_type": "display_data"
    }
   ],
   "source": [
    "297583 * 7.54"
   ]
  },
  {
   "cell_type": "code",
   "execution_count": 24,
   "metadata": {},
   "outputs": [
    {
     "data": {
      "text/html": [
       "<div>\n",
       "<style scoped>\n",
       "    .dataframe tbody tr th:only-of-type {\n",
       "        vertical-align: middle;\n",
       "    }\n",
       "\n",
       "    .dataframe tbody tr th {\n",
       "        vertical-align: top;\n",
       "    }\n",
       "\n",
       "    .dataframe thead th {\n",
       "        text-align: right;\n",
       "    }\n",
       "</style>\n",
       "<table border=\"1\" class=\"dataframe\">\n",
       "  <thead>\n",
       "    <tr style=\"text-align: right;\">\n",
       "      <th></th>\n",
       "      <th>Restaurant</th>\n",
       "      <th>Amount Spent on Advertising</th>\n",
       "    </tr>\n",
       "  </thead>\n",
       "  <tbody>\n",
       "    <tr>\n",
       "      <th>5</th>\n",
       "      <td>Olive Garden</td>\n",
       "      <td>103679</td>\n",
       "    </tr>\n",
       "  </tbody>\n",
       "</table>\n",
       "</div>"
      ],
      "text/plain": [
       "     Restaurant  Amount Spent on Advertising \n",
       "5  Olive Garden                        103679"
      ]
     },
     "execution_count": 24,
     "metadata": {},
     "output_type": "execute_result"
    },
    {
     "data": {
      "application/javascript": [
       "\n",
       "            setTimeout(function() {\n",
       "                var nbb_cell_id = 24;\n",
       "                var nbb_unformatted_code = \"df_restaurant_advertising_spending[\\n    df_restaurant_advertising_spending[\\\"Restaurant\\\"] == \\\"Olive Garden\\\"\\n]\";\n",
       "                var nbb_formatted_code = \"df_restaurant_advertising_spending[\\n    df_restaurant_advertising_spending[\\\"Restaurant\\\"] == \\\"Olive Garden\\\"\\n]\";\n",
       "                var nbb_cells = Jupyter.notebook.get_cells();\n",
       "                for (var i = 0; i < nbb_cells.length; ++i) {\n",
       "                    if (nbb_cells[i].input_prompt_number == nbb_cell_id) {\n",
       "                        if (nbb_cells[i].get_text() == nbb_unformatted_code) {\n",
       "                             nbb_cells[i].set_text(nbb_formatted_code);\n",
       "                        }\n",
       "                        break;\n",
       "                    }\n",
       "                }\n",
       "            }, 500);\n",
       "            "
      ],
      "text/plain": [
       "<IPython.core.display.Javascript object>"
      ]
     },
     "metadata": {},
     "output_type": "display_data"
    }
   ],
   "source": [
    "df_restaurant_advertising_spending[\n",
    "    df_restaurant_advertising_spending[\"Restaurant\"] == \"Olive Garden\"\n",
    "]"
   ]
  },
  {
   "cell_type": "markdown",
   "metadata": {},
   "source": [
    "As we can see, the Olive Garden in Univision City spent \\\\$103,679 on advertising with Univision TV, and had 297,583 Hispanic people dine in at their restaurant, resulting in an estimated $2,243,775 in revenue, a 2,164% return on investment, in this sense. "
   ]
  },
  {
   "cell_type": "code",
   "execution_count": 25,
   "metadata": {},
   "outputs": [
    {
     "data": {
      "text/plain": [
       "21.641565022810788"
      ]
     },
     "execution_count": 25,
     "metadata": {},
     "output_type": "execute_result"
    },
    {
     "data": {
      "application/javascript": [
       "\n",
       "            setTimeout(function() {\n",
       "                var nbb_cell_id = 25;\n",
       "                var nbb_unformatted_code = \"2243775.82 / 103679\";\n",
       "                var nbb_formatted_code = \"2243775.82 / 103679\";\n",
       "                var nbb_cells = Jupyter.notebook.get_cells();\n",
       "                for (var i = 0; i < nbb_cells.length; ++i) {\n",
       "                    if (nbb_cells[i].input_prompt_number == nbb_cell_id) {\n",
       "                        if (nbb_cells[i].get_text() == nbb_unformatted_code) {\n",
       "                             nbb_cells[i].set_text(nbb_formatted_code);\n",
       "                        }\n",
       "                        break;\n",
       "                    }\n",
       "                }\n",
       "            }, 500);\n",
       "            "
      ],
      "text/plain": [
       "<IPython.core.display.Javascript object>"
      ]
     },
     "metadata": {},
     "output_type": "display_data"
    }
   ],
   "source": [
    "2243775.82 / 103679"
   ]
  },
  {
   "cell_type": "markdown",
   "metadata": {},
   "source": [
    "These favorable figures clearly reject the null hypothesis that investing with Univision TV will not lead to an increased revenue in the establishment, via clear counterexamples from similar restaurants in Univision City in 2019."
   ]
  },
  {
   "cell_type": "markdown",
   "metadata": {},
   "source": [
    "### Discussion and recommendation"
   ]
  },
  {
   "cell_type": "markdown",
   "metadata": {},
   "source": [
    "The data has shown that both the percentage of, as well as the Index to Total Market of, the Hispanic population who dines in at sit-down restaurants in Univision city is significanty higher than the population of their Non-Hispanic counterparts in the city. It follows that advertisements with Univision TV, whose audience is overwhelmingly people of the Hispanic population, are reaching the densest pocket of clientelle at sit-down restaurants in the city, and thus will be well-viewed.\n",
    "\n",
    "It has also shown that the average return on investment for a 'Mexitalian' restaurant who advertised with Unvision City in 2019 was 786%, and that one outstanding establishment, Olive Garden, experienced a return on investment of 2,164% from an investment in the Hispanic population via Univision City.\n",
    "\n",
    "It is our recommendation that an investment in advertising with Univision TV will greatly boost the revenue for the new Chaz's establishments that open up in the city this year. "
   ]
  }
 ],
 "metadata": {
  "kernelspec": {
   "display_name": "Python 3",
   "language": "python",
   "name": "python3"
  },
  "language_info": {
   "codemirror_mode": {
    "name": "ipython",
    "version": 3
   },
   "file_extension": ".py",
   "mimetype": "text/x-python",
   "name": "python",
   "nbconvert_exporter": "python",
   "pygments_lexer": "ipython3",
   "version": "3.8.3"
  }
 },
 "nbformat": 4,
 "nbformat_minor": 4
}
